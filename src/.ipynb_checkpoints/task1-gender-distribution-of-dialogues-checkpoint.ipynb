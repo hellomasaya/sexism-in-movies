{
 "cells": [
  {
   "cell_type": "code",
   "execution_count": 198,
   "metadata": {},
   "outputs": [],
   "source": [
    "import pandas as pd\n",
    "from textblob import TextBlob\n",
    "import numpy as np\n",
    "import re\n",
    "import os\n",
    "import math\n",
    "import spacy\n",
    "import pickle\n",
    "from lexicalrichness import LexicalRichness\n",
    "from spacy.lang.en.stop_words import STOP_WORDS\n",
    "nlp = spacy.load(\"en_core_web_sm\", disable=[\"parser\", \"ner\"])"
   ]
  },
  {
   "cell_type": "code",
   "execution_count": 199,
   "metadata": {},
   "outputs": [],
   "source": [
    "def getData(file):\n",
    "    data = pd.read_csv(\"../data/extracted/\"+file,delimiter=',')\n",
    "    moviename = ' '.join(file[:-4].split('_'))\n",
    "    return data, moviename"
   ]
  },
  {
   "cell_type": "code",
   "execution_count": 212,
   "metadata": {},
   "outputs": [],
   "source": [
    "def convertToModelInputFormat(data):\n",
    "    ans = []\n",
    "    count = []\n",
    "    speakers = list(set(list(data['Speaker'])))\n",
    "    for speaker in speakers:\n",
    "        dialogues = data[data['Speaker']==speaker]\n",
    "        dialogues = list(dialogues['Dialogue'])\n",
    "        temp = []\n",
    "        speaker = str(speaker)\n",
    "        speaker = speaker.replace(\".\", \"\")\n",
    "        speaker = speaker.replace(\"\\\"\", \"\")\n",
    "        speaker = speaker.replace(\"\\t\", \"\")\n",
    "        temp.append(speaker)\n",
    "        temp.append(dialogues)\n",
    "        count.append(len(dialogues))\n",
    "        ans.append(temp)\n",
    "#     print(count)\n",
    "    return ans, count"
   ]
  },
  {
   "cell_type": "code",
   "execution_count": 201,
   "metadata": {},
   "outputs": [],
   "source": [
    "def checkEnd(name):\n",
    "    if name[-1] in \"aeiou\":\n",
    "        return \"vowel\"\n",
    "    return \"consonant\""
   ]
  },
  {
   "cell_type": "code",
   "execution_count": 75,
   "metadata": {},
   "outputs": [],
   "source": [
    "def letterClass(name):\n",
    "    name_list = [x for x in name]\n",
    "    vowel_counter = 0\n",
    "    consonant_counter = 0\n",
    "    for letter in name_list:\n",
    "        if letter in ['a','e','i','o','u']:\n",
    "            vowel_counter+=1\n",
    "        else:\n",
    "            consonant_counter+=1\n",
    "    \n",
    "    return vowel_counter, consonant_counter"
   ]
  },
  {
   "cell_type": "code",
   "execution_count": 76,
   "metadata": {},
   "outputs": [],
   "source": [
    "def getLength(name):\n",
    "    return len(name)"
   ]
  },
  {
   "cell_type": "code",
   "execution_count": 99,
   "metadata": {},
   "outputs": [],
   "source": [
    "def checkMoreVowels(data):\n",
    "    data['vcCompare']= np.where(data['ConsonantCount'] == data['VowelCount'], 'equal', np.where(\n",
    "    data['ConsonantCount'] > data['VowelCount'], 'moreConsonants', 'moreVowels')) "
   ]
  },
  {
   "cell_type": "code",
   "execution_count": 100,
   "metadata": {},
   "outputs": [],
   "source": [
    "def checkVCDifference(data):\n",
    "    data['vcDifference']= data['ConsonantCount'] - data['VowelCount']"
   ]
  },
  {
   "cell_type": "code",
   "execution_count": 79,
   "metadata": {},
   "outputs": [],
   "source": [
    "def checkVowelCount(col):\n",
    "    if col > 2:\n",
    "        return 'more'\n",
    "    return 'less'\n",
    "\n",
    "def checkConsonantCount(col):\n",
    "    if col > 3:\n",
    "        return 'more'\n",
    "    return 'less'"
   ]
  },
  {
   "cell_type": "code",
   "execution_count": 141,
   "metadata": {},
   "outputs": [],
   "source": [
    "def checkMoreVowels1(col):\n",
    "    if col == 'moreConsonants':\n",
    "        return 'less'\n",
    "    return 'more'"
   ]
  },
  {
   "cell_type": "code",
   "execution_count": 81,
   "metadata": {},
   "outputs": [],
   "source": [
    "def checkMoreDifference(col):\n",
    "    if col > 1:\n",
    "        return 'more'\n",
    "    return 'less'"
   ]
  },
  {
   "cell_type": "code",
   "execution_count": 82,
   "metadata": {},
   "outputs": [],
   "source": [
    "def getASCII(name):\n",
    "    asciiVal = 0\n",
    "    for x in name:\n",
    "        asciiVal += ord(x)-97\n",
    "    return asciiVal/len(name)"
   ]
  },
  {
   "cell_type": "code",
   "execution_count": 83,
   "metadata": {},
   "outputs": [],
   "source": [
    "def makeBinary(data, cols, zero, one):\n",
    "    for col in cols:\n",
    "        data[col] = np.where((data[col] == zero),0,data[col])        \n",
    "        data[col] = np.where((data[col] == one),1,data[col])\n",
    "    return data"
   ]
  },
  {
   "cell_type": "code",
   "execution_count": 84,
   "metadata": {},
   "outputs": [],
   "source": [
    "def dropColumns(data, collist):\n",
    "    data = data.drop(columns=collist)\n",
    "    return data"
   ]
  },
  {
   "cell_type": "code",
   "execution_count": 85,
   "metadata": {},
   "outputs": [],
   "source": [
    "def getPolarityAndSubjectivity(dialogue):\n",
    "    p=0\n",
    "    s=0\n",
    "    ld= len(dialogue)\n",
    "    for d in dialogue:\n",
    "        p += TextBlob(d).sentiment.polarity\n",
    "        s +=  TextBlob(d).sentiment.subjectivity\n",
    "    return p/ld, s/ld "
   ]
  },
  {
   "cell_type": "code",
   "execution_count": 86,
   "metadata": {},
   "outputs": [],
   "source": [
    "def getSentiMentfromPolarity(dial, col, pol, val):\n",
    "    dial[col]=''\n",
    "    dial.loc[dial[pol]>val,col]=1\n",
    "    dial.loc[dial[pol]==val,col]=0\n",
    "    dial.loc[dial[pol]<val,col]=-1\n",
    "    return dial"
   ]
  },
  {
   "cell_type": "code",
   "execution_count": 87,
   "metadata": {},
   "outputs": [],
   "source": [
    "def getLex(x):\n",
    "    dialogue = x['Dialogues']\n",
    "    l = len(dialogue)\n",
    "    text = ' '.join(dialogue)\n",
    "    lex = LexicalRichness(text)\n",
    "    \n",
    "    if(lex.words > 80): \n",
    "        d =42\n",
    "    elif (lex.words < 12): \n",
    "        d = 1\n",
    "    elif (lex.words < 22): \n",
    "        d = 11\n",
    "    elif (lex.words < 50): \n",
    "        d = 21\n",
    "    else: \n",
    "        d = 31\n",
    "    \n",
    "    try:\n",
    "        x['AverageTokens'] = lex.words/l\n",
    "    except:\n",
    "        x['AverageTokens'] = 0\n",
    "\n",
    "    try:\n",
    "        x['TTR'] = lex.ttr\n",
    "    except:\n",
    "        x['TTR'] = 0\n",
    "\n",
    "    try:\n",
    "        x['MTLD'] = lex.mtld(threshold=0.72)\n",
    "    except:\n",
    "        x['MTLD']=0\n",
    "\n",
    "    try:\n",
    "        x['HDD'] = lex.hdd(draws = d)\n",
    "    except:\n",
    "        x['HDD'] =0\n",
    "            \n",
    "    return x"
   ]
  },
  {
   "cell_type": "code",
   "execution_count": 88,
   "metadata": {},
   "outputs": [],
   "source": [
    "def importVADscores():\n",
    "    scores = pd.read_csv(\"../data/dialogue/VAD-scores.csv\", delimiter='\\t', encoding='utf-8')\n",
    "    scores = scores.rename(columns={\"arousal (a.scores.tsv)\": \"Arousal\"})\n",
    "    valence = dict(zip(scores['term'], scores['valence']))\n",
    "    arousal = dict(zip(scores['term'], scores['arousal']))\n",
    "    dominance = dict(zip(scores['term'], scores['dominance']))\n",
    "    \n",
    "    return valence, arousal, dominance"
   ]
  },
  {
   "cell_type": "code",
   "execution_count": 89,
   "metadata": {},
   "outputs": [],
   "source": [
    "def VADscore(dial):\n",
    "    v=0.0\n",
    "    d=0.0\n",
    "    a=0.0\n",
    "    dialogue = dial['Dial']\n",
    "    dialogue = re.sub(r'[^\\w\\s]','',dialogue)\n",
    "    words = nlp(dialogue)\n",
    "    \n",
    "    count = 0\n",
    "    for x in words:\n",
    "        x = x.lemma_\n",
    "        if x not in STOP_WORDS:\n",
    "            try:\n",
    "                v += valence[x]\n",
    "                count += 1\n",
    "            except:\n",
    "                v += 0\n",
    "            try:\n",
    "                d += dominance[x]\n",
    "            except:\n",
    "                d += 0\n",
    "            try:\n",
    "                a += arousal[x]\n",
    "            except:\n",
    "                a+=0\n",
    "    \n",
    "    if count:\n",
    "        dial['Valence'] = v/count\n",
    "        dial['Arousal'] = a/count\n",
    "        dial['Dominance'] = d/count\n",
    "    \n",
    "    else:\n",
    "        dial['Valence'] = 0\n",
    "        dial['Arousal'] = 0\n",
    "        dial['Dominance'] = 0\n",
    "\n",
    "    return dial"
   ]
  },
  {
   "cell_type": "code",
   "execution_count": 90,
   "metadata": {},
   "outputs": [],
   "source": [
    "def getAverageLen(sentence):\n",
    "    words = sentence.split()\n",
    "    try:\n",
    "        average = sum(len(word) for word in words) / len(words)\n",
    "    except:\n",
    "        average = 0\n",
    "    return average"
   ]
  },
  {
   "cell_type": "code",
   "execution_count": 213,
   "metadata": {},
   "outputs": [],
   "source": [
    "def getFeatures(final_data):\n",
    "    print('Setting up information...')\n",
    "    final_data[\"EndsWith\"] = final_data[\"Name\"].apply(checkEnd)\n",
    "    final_data['VowelCount'] = final_data['Name'].apply(lambda x: letterClass(x)[0])\n",
    "    final_data['ConsonantCount'] = final_data['Name'].apply(lambda x: letterClass(x)[1])\n",
    "#     print(final_data['Name'])\n",
    "    checkVCDifference(final_data)\n",
    "    final_data[\"Length\"] = final_data[\"Name\"].apply(getLength)\n",
    "    final_data[\"VowelCountClass\"] = final_data[\"VowelCount\"].apply(checkVowelCount)\n",
    "    final_data[\"ConsonantCountClass\"] = final_data[\"ConsonantCount\"].apply(checkConsonantCount)\n",
    "    checkMoreVowels(final_data)\n",
    "    final_data[\"MoreVowels\"] = final_data[\"vcCompare\"].apply(checkMoreVowels1)\n",
    "    final_data[\"MoreDifferenceClass\"] = final_data[\"vcDifference\"].apply(checkMoreDifference)\n",
    "    final_data[\"ASCIIval\"] = final_data[\"Name\"].apply(getASCII)\n",
    "    final_data = makeBinary(final_data, ['VowelCountClass', 'MoreVowels', 'MoreDifferenceClass'], 'less', 'more')\n",
    "    final_data = makeBinary(final_data, ['EndsWith'], 'consonant', 'vowel')\n",
    "    final_data = dropColumns(final_data, ['vcCompare', 'ConsonantCountClass', 'Name'])\n",
    "    final_data['PolarityBlob'] = final_data['Dialogues'].apply(lambda x: getPolarityAndSubjectivity(x)[0])\n",
    "    final_data['SubjectivityBlob'] = final_data['Dialogues'].apply(lambda x: getPolarityAndSubjectivity(x)[1])\n",
    "    final_data = getSentiMentfromPolarity(final_data, 'SentiBlob', 'PolarityBlob', 0)\n",
    "    final_data = final_data.apply(getLex, axis=1)\n",
    "    valence, arousal, dominance = importVADscores()\n",
    "    dialogues = final_data['Dialogues'].tolist()\n",
    "    new_d = [ ' '.join(dial) for dial in dialogues]\n",
    "    final_data['Dial'] = new_d\n",
    "    final_data = final_data.apply(VADscore, axis=1)\n",
    "    final_data[\"AvergaeLenOfTokens\"] = final_data['Dial'].apply(getAverageLen)\n",
    "    final_data = dropColumns(final_data, ['Dialogues', 'Dial'])\n",
    "    return final_data"
   ]
  },
  {
   "cell_type": "code",
   "execution_count": 136,
   "metadata": {},
   "outputs": [],
   "source": [
    "def getDataInFormat(file):    \n",
    "    data, moviename = getData(file)\n",
    "    ans, countD = convertToModelInputFormat(data)\n",
    "    df = pd.DataFrame(ans, columns = ['Name', 'Dialogues'])\n",
    "    final_data = df.drop(0)\n",
    "    return final_data, moviename, countD"
   ]
  },
  {
   "cell_type": "code",
   "execution_count": 146,
   "metadata": {},
   "outputs": [],
   "source": [
    "def getPredictions(data):\n",
    "    print('Predicting Genders...')\n",
    "    with open('./models/rfc-task1', 'rb') as file:  \n",
    "        rfc = pickle.load(file)\n",
    "    predictions = rfc.predict(data)\n",
    "    \n",
    "    with open('./models/LogReg-task1', 'rb') as file2:  \n",
    "        logreg = pickle.load(file2)\n",
    "    predictions_logreg = logreg.predict(data)\n",
    "    return predictions, predictions_logreg"
   ]
  },
  {
   "cell_type": "code",
   "execution_count": 159,
   "metadata": {},
   "outputs": [],
   "source": [
    "def plotPredictions(rfc, logreg, movie, countD):\n",
    "    print('Plotting Distribution...')\n",
    "    dialrfc = []\n",
    "    diallogreg = []\n",
    "    m = 0\n",
    "    f = 0\n",
    "    glist= ['Female','Male']\n",
    "    \n",
    "    for g, c in zip(rfc, countD):\n",
    "        if g == 1:\n",
    "            f+=c\n",
    "        else:\n",
    "            m+=c\n",
    "    dialrfc = [f, m]\n",
    "    \n",
    "    m = 0\n",
    "    f = 0\n",
    "    for g,c in zip(logreg, countD):\n",
    "        if g == 1:\n",
    "            f+=c\n",
    "        else:\n",
    "            m+=c\n",
    "    diallogreg = [f, m]\n",
    "    \n",
    "    df = pd.DataFrame(columns=['Gender', 'RandomForest', 'LogisticRegression'])\n",
    "    df['Gender'] = glist\n",
    "    df['RandomForest'] = dialrfc\n",
    "    df['LogisticRegression'] = diallogreg\n",
    "    df = df.set_index('Gender')\n",
    "    print(df)\n",
    "    \n",
    "    title = 'Gender Distribution of Dialogues:' + movie\n",
    "    \n",
    "    plot = df.plot.pie(subplots=True, figsize=(13, 5), colors = ['#66b3ff','#99ff99'], autopct = \"%.2f%%\", labeldistance=1.15, title=title)"
   ]
  },
  {
   "cell_type": "code",
   "execution_count": 160,
   "metadata": {},
   "outputs": [],
   "source": [
    "def getDistribution(file):\n",
    "    final_data, movie, countD = getDataInFormat(file)\n",
    "    final_data = getFeatures(final_data)\n",
    "    rfc, logreg = getPredictions(final_data)\n",
    "    plotPredictions(rfc, logreg, movie, countD)"
   ]
  },
  {
   "cell_type": "code",
   "execution_count": 216,
   "metadata": {},
   "outputs": [
    {
     "name": "stdout",
     "output_type": "stream",
     "text": [
      "Setting up information...\n",
      "Predicting Genders...\n",
      "Plotting Distribution...\n",
      "        RandomForest  LogisticRegression\n",
      "Gender                                  \n",
      "Female           291                 132\n",
      "Male             200                 359\n"
     ]
    },
    {
     "name": "stderr",
     "output_type": "stream",
     "text": [
      "/usr/local/lib/python3.7/site-packages/pandas/plotting/_matplotlib/tools.py:331: MatplotlibDeprecationWarning: \n",
      "The is_first_col function was deprecated in Matplotlib 3.4 and will be removed two minor releases later. Use ax.get_subplotspec().is_first_col() instead.\n",
      "  if ax.is_first_col():\n"
     ]
    },
    {
     "data": {
      "image/png": "[encoded data removed]",
      "text/plain": [
       "<Figure size 936x360 with 2 Axes>"
      ]
     },
     "metadata": {},
     "output_type": "display_data"
    }
   ],
   "source": [
    "files = os.listdir('../data/extracted')\n",
    "files.sort()\n",
    "file = files[81]\n",
    "getDistribution(file)"
   ]
  },
  {
   "cell_type": "code",
   "execution_count": 162,
   "metadata": {},
   "outputs": [
    {
     "name": "stdout",
     "output_type": "stream",
     "text": [
      "['.DS_Store', '.ipynb_checkpoints', '10_Things_I_Hate_About_You.csv', '12.csv', '127_Hours.csv', '12_Monkeys.csv', '12_Years_a_Slave.csv', '12_and_Holding.csv', '1492__Conquest_of_Paradise.csv', '15_Minutes.csv', '187.csv', '2001__A_Space_Odyssey.csv', '2012.csv', '28_Days_Later.csv', '30_Minutes_or_Less.csv', '42.csv', '44_Inch_Chest.csv', '48_Hrs.csv', '50-50.csv', '500_Days_of_Summer.csv', '8MM.csv', 'A_Few_Good_Men.csv', 'A_Prayer_Before_Dawn.csv', 'A_Scanner_Darkly.csv', 'A_Serious_Man.csv', 'Above_the_Law.csv', 'Absolute_Power.csv', 'Adaptation.csv', 'Adjustment_Bureau.csv', 'Adventures_of_Buckaroo_Banzai_Across_the_Eighth_Dimension.csv', 'Affliction.csv', 'After.csv', 'After_School_Special.csv', 'Agnes_of_God.csv', 'Airplane.csv', 'Airplane_2__The_Sequel.csv', 'Ali.csv', 'Alien_3.csv', 'Alien_Nation.csv', 'Alien_vs.csv', 'Aliens.csv', 'All_About_Eve.csv', 'All_About_Steve.csv', 'All_the_King_s_Men.csv', 'All_the_President_s_Men.csv', 'Almost_Famous.csv', 'Alone_in_the_Dark.csv', 'Amadeus.csv', 'Amelia.csv', 'American.csv', 'American_Beauty.csv', 'American_Gangster.csv', 'American_Graffiti.csv', 'American_History_X.csv', 'American_Hustle.csv', 'American_Milkshake.csv', 'American_Pie.csv', 'American_President.csv', 'American_Shaolin__King_of_Kickboxers_II.csv', 'American_Sniper.csv', 'American_Splendor.csv', 'American_Werewolf_in_London.csv', 'Amityville_Asylum.csv', 'Amour.csv', 'Analyze_That.csv', 'Analyze_This.csv', 'Anastasia.csv', 'Angel_Eyes.csv', 'Anna_Karenina.csv', 'Annie_Hall.csv', 'Anniversary_Party.csv', 'Anonymous.csv', 'Antitrust.csv', 'Antz.csv', 'Apartment.csv', 'Apocalypse_Now.csv', 'April_Fool_s_Day.csv', 'Apt_Pupil.csv', 'Arbitrage.csv', 'Arcade.csv', 'Arctic_Blue.csv', 'Argo.csv', 'Arsenic_and_Old_Lace.csv', 'Arthur.csv', 'As_Good_As_It_Gets.csv', 'Assassins.csv', 'Assignment.csv', 'At_First_Sight.csv', 'August__Osage_County.csv', 'Austin_Powers_-_International_Man_of_Mystery.csv', 'Austin_Powers_-_The_Spy_Who_Shagged_Me.csv', 'Authors_Anonymous.csv', 'Autumn_in_New_York.csv', 'Avatar.csv', 'Avengers.csv', 'Avventura.csv', 'Awakenings.csv', 'Babel.csv', 'Bachelor_Party.csv', 'Back-up_Plan.csv', 'Backdraft.csv', 'Bad_Boys.csv', 'Bad_Country.csv', 'Bad_Day_at_Black_Rock.csv', 'Bad_Lieutenant.csv', 'Bad_Santa.csv', 'Bad_Teacher.csv', 'Badlands.csv', 'Bamboozled.csv', 'Barry_Lyndon.csv', 'Barton_Fink.csv', 'Basic.csv', 'Basic_Instinct.csv', 'Basquiat.csv', 'Batman.csv', 'Battle__Los_Angeles.csv', 'Battle_of_Algiers.csv', 'Battle_of_Shaker_Heights.csv', 'Bean.csv', 'Beasts_of_No_Nation.csv', 'Beasts_of_the_Southern_Wild.csv', 'Beauty_and_the_Beast.csv', 'Beginners.csv', 'Being_Human.csv', 'Being_John_Malkovich.csv', 'Being_There.csv', 'Believer.csv', 'Belle.csv', 'Beloved.csv', 'Best_Exotic_Marigold_Hotel.csv', 'Big.csv', 'Big_Blue.csv', 'Big_Eyes.csv', 'Big_Fish.csv', 'Big_Lebowski.csv', 'Big_Sick.csv', 'Big_White.csv', 'Birdman.csv', 'Birds.csv', 'Birthday_Girl.csv', 'BlacKkKlansman.csv', 'Black_Dahlia.csv', 'Black_Panther.csv', 'Black_Rain.csv', 'Black_Snake_Moan.csv', 'Black_Swan.csv', 'Blade.csv', 'Blade_II.csv', 'Blade_Runner.csv', 'Blade__Trinity.csv', 'Blast_from_the_Past.csv', 'Blind_Side.csv', 'Bling_Ring.csv', 'Blood_Simple.csv', 'Blow.csv', 'Blue_Valentine.csv', 'Blue_Velvet.csv', 'Body_Heat.csv', 'Body_of_Evidence.csv', 'Bodyguard.csv', 'Bones.csv', 'Bonfire_of_the_Vanities.csv', 'Bonnie_and_Clyde.csv', 'Book_of_Eli.csv', 'Boondock_Saints.csv', 'Boondock_Saints_2__All_Saints_Day.csv', 'Bottle_Rocket.csv', 'Bound.csv', 'Bourne_Identity.csv', 'Bourne_Supremacy.csv', 'Bourne_Ultimatum.csv', 'Box.csv', 'Boxtrolls.csv', 'Boyhood.csv', 'Braveheart.csv', 'Brazil.csv', 'Break.csv', 'Breakdown.csv', 'Breakfast_Club.csv', 'Breaking_Away.csv', 'Brick.csv', 'Bridesmaids.csv', 'Bringing_Out_the_Dead.csv', 'Broadcast_News.csv', 'Broken_Arrow.csv', 'Broken_Embraces.csv', 'Brothers_Bloom.csv', 'Bruce_Almighty.csv', 'Buffy_the_Vampire_Slayer.csv', 'Bull_Durham.csv', 'Buried.csv', 'Burlesque.csv', 'Burn_After_Reading.csv', 'Burning_Annie.csv', 'Butterfly_Effect.csv', 'Cable_Guy.csv', 'Candle_to_Water.csv', 'Capote.csv', 'Carrie.csv', 'Case_39.csv', 'Casino.csv', 'Cecil_B.csv', 'Cedar_Rapids.csv', 'Cell.csv', 'Cellular.csv', 'Change-Up.csv', 'Changeling.csv', 'Chaos.csv', 'Charade.csv', 'Charlie_s_Angels.csv', 'Chasing_Amy.csv', 'Cherry_Falls.csv', 'Chinatown.csv', 'Christ_Complex.csv', 'Chronicle.csv', 'Chronicles_of_Narnia__The_Lion.csv', 'Cider_House_Rules.csv', 'Cincinnati_Kid.csv', 'Cirque_du_Freak__The_Vampire_s_Assistant.csv', 'Citizen_Kane.csv', 'City_of_Joy.csv', 'Clash_of_the_Titans.csv', 'Clerks.csv', 'Cliffhanger.csv', 'Cobb.csv', 'Coco.csv', 'Code_of_Silence.csv', 'Cold_Mountain.csv', 'Collateral.csv', 'Collateral_Damage.csv', 'Colombiana.csv', 'Confessions_of_a_Dangerous_Mind.csv', 'Confidence.csv', 'Cooler.csv', 'Coraline.csv', 'Coriolanus.csv', 'Cradle_2_the_Grave.csv', 'Crank.csv', 'Crash.csv', 'Crazy.csv', 'Crazylove.csv', 'Creation.csv', 'Crime_Spree.csv', 'Croods.csv', 'Crouching_Tiger.csv', 'Crow.csv', 'Crow_Salvation.csv', 'Cruel_Intentions.csv', 'Cube.csv', 'Curious_Case_of_Benjamin_Button.csv', 'Custody.csv', 'Dallas_Buyers_Club.csv', 'Damned_United.csv', 'Dances_with_Wolves.csv', 'Dark_City.csv', 'Dark_Knight_Rises.csv', 'Dark_Star.csv', 'Darkman.csv', 'Dave_Barry_s_Complete_Guide_to_Guys.csv', 'Day_of_the_Dead.csv', 'Day_the_Clown_Cried.csv', 'Day_the_Earth_Stood_Still.csv', 'Dead_Poets_Society.csv', 'Deadpool.csv', 'Dear_White_People.csv', 'Death_to_Smoochy.csv', 'Debt.csv', 'Deception.csv', 'Deep_Cover.csv', 'Deep_Rising.csv', 'Deer_Hunter.csv', 'Defiance.csv', 'Departed.csv', 'Descendants.csv', 'Despicable_Me_2.csv', 'Detroit_Rock_City.csv', 'Devil_Wears_Prada.csv', 'Devil_in_a_Blue_Dress.csv', 'Devil_s_Advocate.csv', 'Die_Hard.csv', 'Die_Hard_2.csv', 'Diner.csv', 'Distinguished_Gentleman.csv', 'Disturbia.csv', 'Django_Unchained.csv', 'Do_The_Right_Thing.csv', 'Doors.csv', 'Double_Indemnity.csv', 'Drag_Me_to_Hell.csv', 'Dragonslayer.csv', 'Drive.csv', 'Drive_Angry.csv', 'Drop_Dead_Gorgeous.csv', 'Dry_White_Season.csv', 'Duck_Soup.csv', 'Dumb_and_Dumber.csv', 'Dune.csv', 'Eagle_Eye.csv', 'Eastern_Promises.csv', 'Easy_A.csv', 'Ed_TV.csv', 'Ed_Wood.csv', 'Edward_Scissorhands.csv', 'Eight_Legged_Freaks.csv', 'El_Mariachi.csv', 'Election.csv', 'Elephant_Man.csv', 'Elizabeth__The_Golden_Age.csv', 'Enemy_of_the_State.csv', 'English_Patient.csv', 'Entrapment.csv', 'Erin_Brockovich.csv', 'Escape_From_L.csv', 'Escape_From_New_York.csv', 'Eternal_Sunshine_of_the_Spotless_Mind.csv', 'Even_Cowgirls_Get_the_Blues.csv', 'Event_Horizon.csv', 'Evil_Dead.csv', 'Evil_Dead_II__Dead_by_Dawn.csv', 'Ex_Machina.csv', 'Excalibur.csv', 'Extract.csv', 'Fabulous_Baker_Boys.csv', 'Face_Off.csv', 'Fair_Game.csv', 'Family_Man.csv', 'Fantastic_Four.csv', 'Fantastic_Mr_Fox.csv', 'Fargo.csv', 'Fast_Times_at_Ridgemont_High.csv', 'Fatal_Instinct.csv', 'Fault_in_Our_Stars.csv', 'Fear_and_Loathing_in_Las_Vegas.csv', 'Feast.csv', 'Field_of_Dreams.csv', 'Fifth_Element.csv', 'Fight_Club.csv', 'Final_Destination.csv', 'Final_Destination_2.csv', 'Finding_Nemo.csv', 'Five_Easy_Pieces.csv', 'Flash_Gordon.csv', 'Fletch.csv', 'Flight.csv', 'Flintstones.csv', 'Forrest_Gump.csv', 'Four_Rooms.csv', 'Foxcatcher.csv', 'Fracture.csv', 'Frances.csv', 'Freaked.csv', 'Freddy_vs.csv', 'Frequency.csv', 'Friday_the_13th.csv', 'Friday_the_13th_Part_VIII__Jason_Takes_Manhattan.csv', 'Fright_Night.csv', 'Fright_Night_(1985).csv', 'From_Dusk_Till_Dawn.csv', 'From_Here_to_Eternity.csv', 'Frozen.csv', 'Frozen_(Disney).csv', 'Frozen_River.csv', 'Fruitvale_Station.csv', 'Fugitive.csv', 'Funny_People.csv', 'G.csv', 'Game.csv', 'Game_6.csv', 'Gamer.csv', 'Gandhi.csv', 'Gang_Related.csv', 'Gangs_of_New_York.csv', 'Garden_State.csv', 'Gattaca.csv', 'Get_Carter.csv', 'Get_Low.csv', 'Get_Out.csv', 'Get_Shorty.csv', 'Get_on_Up.csv', 'Getaway.csv', 'Ghost.csv', 'Ghost_Rider.csv', 'Ghost_Ship.csv', 'Ghost_World.csv', 'Ghost_and_the_Darkness.csv', 'Ghostbusters.csv', 'Ghostbusters_2.csv', 'Girl_with_the_Dragon_Tattoo.csv', 'Gladiator.csv', 'Glengarry_Glen_Gross.csv', 'Go.csv', 'Godfather_Part_II.csv', 'Godfather_Part_III.csv', 'Gods_and_Monsters.csv', 'Godzilla.csv', 'Gone_Baby_Gone.csv', 'Gone_in_60_Seconds.csv', 'Good_Girl.csv', 'Good_Will_Hunting.csv', 'Grabbers.csv', 'Graduate.csv', 'Gran_Torino.csv', 'Grand_Hotel.csv', 'Grand_Theft_Parsons.csv', 'Grapes_of_Wrath.csv', 'Gravity.csv', 'Great_Gatsby.csv', 'Green_Mile.csv', 'Gremlins_2.csv', 'Grifters.csv', 'Grosse_Point_Blank.csv', 'Groundhog_Day.csv', 'Grudge.csv', 'Guardians_of_the_Galaxy_Vol_2.csv', 'Hackers.csv', 'Hall_Pass.csv', 'Halloween.csv', 'Halloween__The_Curse_of_Michael_Myers.csv', 'Hangover.csv', 'Hanna.csv', 'Hannah_and_Her_Sisters.csv', 'Hannibal.csv', 'Happy_Birthday.csv', 'Happy_Feet.csv', 'Hard_Rain.csv', 'Hard_to_Kill.csv', 'Harold_and_Kumar_Go_to_White_Castle.csv', 'Haunting.csv', 'He_s_Just_Not_That_Into_You.csv', 'Heat.csv', 'Heathers.csv', 'Heavenly_Creatures.csv', 'Heavy_Metal.csv', 'Hebrew_Hammer.csv', 'Heist.csv', 'Hellbound__Hellraiser_II.csv', 'Hellboy.csv', 'Hellboy_2__The_Golden_Army.csv', 'Hellraiser.csv', 'Hellraiser_3__Hell_on_Earth.csv', 'Hellraiser__Hellseeker.csv', 'Help.csv', 'Henry_Fool.csv', 'Henry_s_Crime.csv', 'Her.csv', 'Hesher.csv', 'High_Fidelity.csv', 'Highlander.csv', 'Hills_Have_Eyes.csv', 'His_Girl_Friday.csv', 'Hitchcock.csv', 'Hitchhiker_s_Guide_to_the_Galaxy.csv', 'Hollow_Man.csv', 'Honeydripper.csv', 'Horrible_Bosses.csv', 'Horse_Whisperer.csv', 'Hospital.csv', 'Hostage.csv', 'Hot_Tub_Time_Machine.csv', 'House_of_1000_Corpses.csv', 'How_to_Train_Your_Dragon.csv', 'How_to_Train_Your_Dragon_2.csv', 'Hudson_Hawk.csv', 'Hudsucker_Proxy.csv', 'Human_Nature.csv', 'Hunt_for_Red_October.csv', 'Hurt_Locker.csv', 'I.csv', 'I_Am_Number_Four.csv', 'I_Love_You_Phillip_Morris.csv', 'I_Spit_on_Your_Grave.csv', 'I_Still_Know_What_You_Did_Last_Summer.csv', 'I_am_Sam.csv', 'I_ll_Do_Anything.csv', 'Ice_Storm.csv', 'Ides_of_March.csv', 'Inception.csv', 'Incredibles.csv', 'Indiana_Jones_IV.csv', 'Indiana_Jones_and_the_Last_Crusade.csv', 'Indiana_Jones_and_the_Raiders_of_the_Lost_Ark.csv', 'Indiana_Jones_and_the_Temple_of_Doom.csv', 'Informant.csv', 'Insider.csv', 'Insidious.csv', 'Insomnia.csv', 'Interstellar.csv', 'Interview_with_the_Vampire.csv', 'Into_the_Wild.csv', 'Into_the_Woods.csv', 'Intolerable_Cruelty.csv', 'Inventing_the_Abbotts.csv', 'Invention_of_Lying.csv', 'Invictus.csv', 'Iron_Lady.csv', 'Island.csv', 'It.csv', 'It_s_Complicated.csv', 'It_s_a_Wonderful_Life.csv', 'Italian_Job.csv', 'JFK.csv', 'Jacket.csv', 'Jackie_Brown.csv', 'Jacob_s_Ladder.csv', 'Jane_Eyre.csv', 'Jason_X.csv', 'Jaws.csv', 'Jaws_2.csv', 'Jay_and_Silent_Bob_Strike_Back.csv', 'Jennifer_Eight.csv', 'Jennifer_s_Body.csv', 'Jerry_Maguire.csv', 'Jeux_Interdits.csv', 'Jimmy_and_Judy.csv', 'John_Q.csv', 'John_Wick.csv', 'Joker.csv', 'Judge_Dredd.csv', 'Juno.csv', 'Jurassic_Park.csv', 'Jurassic_Park_III.csv', 'Kafka.csv', 'Kalifornia.csv', 'Kids.csv', 'Kids_Are_All_Right.csv', 'Kill_Your_Darlings.csv', 'Killing_Zoe.csv', 'King_Kong.csv', 'King_of_Comedy.csv', 'King_s_Speech.csv', 'Kingdom.csv', 'Klute.csv', 'Knocked_Up.csv', 'Kramer_vs_Kramer.csv', 'Kundun.csv', 'Kung_Fu_Panda.csv', 'L.csv', 'LEGO_Movie.csv', 'La_La_Land.csv', 'Ladykillers.csv', 'Lake_Placid.csv', 'Land_of_the_Dead.csv', 'Last_Boy_Scout.csv', 'Last_Chance_Harvey.csv', 'Last_Flight.csv', 'Last_Samurai.csv', 'Last_Station.csv', 'Last_Tango_in_Paris.csv', 'Last_of_the_Mohicans.csv', 'Law_Abiding_Citizen.csv', 'Le_Diable_par_la_Queue.csv', 'Leaving_Las_Vegas.csv', 'Legally_Blonde.csv', 'Legion.csv', 'Les_Miserables.csv', 'Les_Tontons_Flingueurs.csv', 'Leviathan.csv', 'Liar_Liar.csv', 'Life.csv', 'Life_As_A_House.csv', 'Life_of_David_Gale.csv', 'Life_of_Pi.csv', 'Light_Sleeper.csv', 'Limey.csv', 'Limitless.csv', 'Lincoln.csv', 'Little_Athens.csv', 'Little_Men.csv', 'Little_Nicky.csv', 'Living_in_Oblivion.csv', 'Lock.csv', 'Logan.csv', 'Lone_Star.csv', 'Long_Kiss_Goodnight.csv', 'Looper.csv', 'Lord_of_Illusions.csv', 'Lord_of_War.csv', 'Lord_of_the_Rings__Fellowship_of_the_Ring.csv', 'Lord_of_the_Rings__Return_of_the_King.csv', 'Lord_of_the_Rings__The_Two_Towers.csv', 'Losers.csv', 'Lost_Highway.csv', 'Lost_in_Translation.csv', 'Love_and_Basketball.csv', 'Machine_Gun_Preacher.csv', 'Mad_Max_2__The_Road_Warrior.csv', 'Magnolia.csv', 'Majestic.csv', 'Major_League.csv', 'Malcolm_X.csv', 'Malibu_s_Most_Wanted.csv', 'Man_On_Fire.csv', 'Man_Trouble.csv', 'Man_Who_Knew_Too_Much.csv', 'Man_Who_Wasn_t_There.csv', 'Man_in_the_Iron_Mask.csv', 'Man_on_the_Moon.csv', 'Manhattan_Murder_Mystery.csv', 'Manhunter.csv', 'Margaret.csv', 'Margin_Call.csv', 'Margot_at_the_Wedding.csv', 'Mariachi.csv', 'Martha_Marcy_May_Marlene.csv', 'Martian.csv', 'Marty.csv', 'Mask.csv', 'Master.csv', 'Master_and_Commander.csv', 'Matrix.csv', 'Max_Payne.csv', 'Mean_Streets.csv', 'Mechanic.csv', 'Meet_Joe_Black.csv', 'Megamind.csv', 'Memento.csv', 'Men_Who_Stare_at_Goats.csv', 'Men_in_Black.csv', 'Men_in_Black_3.csv', 'Metro.csv', 'Miami_Vice.csv', 'Midnight_Cowboy.csv', 'Midnight_Express.csv', 'Midnight_in_Paris.csv', 'Mighty_Joe_Young.csv', 'Mighty_Morphin_Power_Rangers__The_Movie.csv', 'Milk.csv', 'Mimic.csv', 'Mini_s_First_Time.csv', 'Minority_Report.csv', 'Miracle_Worker.csv', 'Mirrors.csv', 'Misery.csv', 'Mission_Impossible.csv', 'Mission_Impossible_II.csv', 'Mission_to_Mars.csv', 'Moneyball.csv', 'Monkeybone.csv', 'Monte_Carlo.csv', 'Moon.csv', 'Moonrise_Kingdom.csv', 'Moonstruck.csv', 'Mr_Blandings_Builds_His_Dream_House.csv', 'Mrs.csv', 'Mud.csv', 'Mulholland_Drive.csv', 'Mumford.csv', 'Mummy.csv', 'Music_of_the_Heart.csv', 'Mute_Witness.csv', 'My_Best_Friend_s_Wedding.csv', 'My_Girl.csv', 'My_Mother_Dreams_the_Satan_s_Disciples_in_New_York.csv', 'My_Week_with_Marilyn.csv', 'Mystery_Men.csv', 'Nashville.csv', 'Natural_Born_Killers.csv', 'Newsies.csv', 'Next_Friday.csv', 'Next_Three_Days.csv', 'Ni_vu_ni_connu.csv', 'Nick_of_Time.csv', 'Nightmare_Before_Christmas.csv', 'Nightmare_on_Elm_Street.csv', 'Nightmare_on_Elm_Street__The_Final_Chapter.csv', 'Nine.csv', 'Nines.csv', 'Ninja_Assassin.csv', 'Ninotchka.csv', 'No_Country_for_Old_Men.csv', 'No_Strings_Attached.csv', 'Notting_Hill.csv', 'Nurse_Betty.csv', 'Oblivion.csv', 'Observe_and_Report.csv', 'Obsessed.csv', 'Ocean_s_Eleven.csv', 'Ocean_s_Twelve.csv', 'Office_Space.csv', 'One_Flew_Over_the_Cuckoo_s_Nest.csv', 'Only_God_Forgives.csv', 'Ordinary_People.csv', 'Orgy_of_the_Dead.csv', 'Orphan.csv', 'Other_Boleyn_Girl.csv', 'Out_of_Sight.csv', 'Pacifier.csv', 'Pandorum.csv', 'Panic_Room.csv', 'ParaNorman.csv', 'Pariah.csv', 'Passengers.csv', 'Patriot.csv', 'Paul.csv', 'Pearl_Harbor.csv', 'Peeping_Tom.csv', 'Peggy_Sue_Got_Married.csv', 'Perfect_Creature.csv', 'Perfect_World.csv', 'Perks_of_Being_a_Wallflower.csv', 'Pet_Sematary.csv', 'Pet_Sematary_II.csv', 'Petulia.csv', 'Philadelphia.csv', 'Phone_Booth.csv', 'Pianist.csv', 'Piano.csv', 'Pineapple_Express.csv', 'Pirates_of_the_Caribbean.csv', 'Pirates_of_the_Caribbean__Dead_Man_s_Chest.csv', 'Pitch_Black.csv', 'Planet_of_the_Apes.csv', 'Platoon.csv', 'Pleasantville.csv', 'Postman.csv', 'Power_of_One.csv', 'Precious.csv', 'Predator.csv', 'Prestige.csv', 'Pretty_Woman.csv', 'Pretty_Woman_(final_script).csv', 'Pride_and_Prejudice.csv', 'Priest.csv', 'Princess_Bride.csv', 'Private_Life_of_Sherlock_Holmes.csv', 'Producer.csv', 'Program.csv', 'Prometheus.csv', 'Prophecy.csv', 'Proposal.csv', 'Psycho.csv', 'Public_Enemies.csv', 'Pulp_Fiction.csv', 'Punch-Drunk_Love.csv', 'Purple_Rain.csv', 'Quantum_Project.csv', 'Queen_of_the_Damned.csv', 'RKO_281.csv', 'Rachel_Getting_Married.csv', 'Raging_Bull.csv', 'Raising_Arizona.csv', 'Rambling_Rose.csv', 'Rambo__First_Blood_II__The_Mission.csv', 'Reader.csv', 'Real_Genius.csv', 'Rear_Window.csv', 'Rebel_Without_A_Cause.csv', 'Red_Riding_Hood.csv', 'Reindeer_Games.csv', 'Relic.csv', 'Remember_Me.csv', 'Replacements.csv', 'Repo_Man.csv', 'Reservoir_Dogs.csv', 'Resident_Evil.csv', 'Revenant.csv', 'Revolutionary_Road.csv', 'Rise_of_the_Guardians.csv', 'Robin_Hood__Prince_of_Thieves.csv', 'RocknRolla.csv', 'Rocky.csv', 'Rocky_Horror_Picture_Show.csv', 'Ronin.csv', 'Room.csv', 'Roommate.csv', 'Roughshod.csv', 'Ruins.csv', 'Runaway_Bride.csv', 'Rush_Hour.csv', 'Rush_Hour_2.csv', 'S.csv', 'Salton_Sea.csv', 'Sandlot_Kids.csv', 'Save_the_Last_Dance.csv', 'Saving_Mr.csv', 'Saving_Private_Ryan.csv', 'Saw.csv', 'Scarface.csv', 'Schindler_s_List.csv', 'Scott_Pilgrim_vs_the_World.csv', 'Scream.csv', 'Scream_2.csv', 'Scream_3.csv', 'Se7en.csv', 'Searchers.csv', 'Secret_Life_of_Walter_Mitty.csv', 'Semi-Pro.csv', 'Sense_and_Sensibility.csv', 'Serenity.csv', 'Serial_Mom.csv', 'Sessions.csv', 'Sex_and_the_City.csv', 'Sexual_Life.csv', 'Shakespeare_in_Love.csv', 'Shallow_Grave.csv', 'Shame.csv', 'Shampoo.csv', 'Sherlock_Holmes.csv', 'Shifty.csv', 'Shining.csv', 'Shipping_News.csv', 'Shivers.csv', 'Shrek.csv', 'Shrek_the_Third.csv', 'Sicario.csv', 'Sideways.csv', 'Siege.csv', 'Signs.csv', 'Silence_of_the_Lambs.csv', 'Silver_Bullet.csv', 'Silver_Linings_Playbook.csv', 'Simone.csv', 'Single_White_Female.csv', 'Sister_Act.csv', 'Six_Degrees_of_Separation.csv', 'Sixth_Sense.csv', 'Sleepless_in_Seattle.csv', 'Sleepy_Hollow.csv', 'Sling_Blade.csv', 'Slither.csv', 'Smashed.csv', 'Smokin__Aces.csv', 'Snow_Falling_On_Cedars.csv', 'Snow_White_and_the_Huntsman.csv', 'So_I_Married_an_Axe_Murderer.csv', 'Social_Network.csv', 'Solaris.csv', 'Soldier.csv', 'Someone_To_Watch_Over_Me.csv', 'Source_Code.csv', 'South_Park.csv', 'Spare_Me.csv', 'Spartan.csv', 'Speed_Racer.csv', 'Sphere.csv', 'Spider-Man.csv', 'St.csv', 'Star_Trek.csv', 'Star_Trek_II__The_Wrath_of_Khan.csv', 'Star_Trek__First_Contact.csv', 'Star_Trek__Generations.csv', 'Star_Trek__Nemesis.csv', 'Star_Trek__The_Motion_Picture.csv', 'Star_Wars__A_New_Hope.csv', 'Star_Wars__Attack_of_the_Clones.csv', 'Star_Wars__Return_of_the_Jedi.csv', 'Star_Wars__The_Empire_Strikes_Back.csv', 'Star_Wars__The_Force_Awakens.csv', 'Starman.csv', 'Starship_Troopers.csv', 'State_and_Main.csv', 'Station_West.csv', 'Stepmom.csv', 'Sting.csv', 'Storytelling.csv', 'Straight_Outta_Compton.csv', 'Strange_Days.csv', 'Strangers_on_a_Train.csv', 'Stuntman.csv', 'Sugar.csv', 'Sugar_and_Spice.csv', 'Sunset_Blvd.csv', 'Sunshine_Cleaning.csv', 'Superbad.csv', 'Supergirl.csv', 'Surfer_King.csv', 'Surrogates.csv', 'Sweeney_Todd__The_Demon_Barber_of_Fleet_Street.csv', 'Sweet_Hereafter.csv', 'Sweet_Smell_of_Success.csv', 'Swingers.csv', 'Swordfish.csv', 'Synecdoche.csv', 'Syriana.csv', 'TMNT.csv', 'TRON.csv', 'TRON__Legacy.csv', 'Take_Shelter.csv', 'Taking_Sides.csv', 'Taking_of_Pelham_One_Two_Three.csv', 'Talented_Mr.csv', 'Tall_in_the_Saddle.csv', 'Tamara_Drewe.csv', 'Taxi_Driver.csv', 'Ted.csv', 'Terminator.csv', 'Terminator_2__Judgement_Day.csv', 'Terminator_Salvation.csv', 'The_Rage__Carrie_2.csv', 'Theory_of_Everything.csv', 'There_s_Something_About_Mary.csv', 'Thing.csv', 'Thirteen_Days.csv', 'This_Boy_s_Life.csv', 'Thor.csv', 'Thor_Ragnarok.csv', 'Three_Kings.csv', 'Three_Kings_(Spoils_of_War).csv', 'Three_Men_and_a_Baby.csv', 'Three_Musketeers.csv', 'Thunderbirds.csv', 'Thunderheart.csv', 'Ticker.csv', 'Timber_Falls.csv', 'Tin_Cup.csv', 'Tin_Men.csv', 'Tinker_Tailor_Soldier_Spy.csv', 'To_Sleep_with_Anger.csv', 'Tombstone.csv', 'Tomorrow_Never_Dies.csv', 'Top_Gun.csv', 'Total_Recall.csv', 'Tourist.csv', 'Toy_Story.csv', 'Traffic.csv', 'Transformers__The_Movie.csv', 'Tristan_and_Isolde.csv', 'Tropic_Thunder.csv', 'True_Grit.csv', 'True_Lies.csv', 'True_Romance.csv', 'Truman_Show.csv', 'Twilight.csv', 'Twilight__New_Moon.csv', 'Twin_Peaks.csv', 'Twins.csv', 'Two_For_The_Money.csv', 'U_Turn.csv', 'Ugly_Truth.csv', 'Un_Singe_en_Hiver.csv', 'Unbreakable.csv', 'Under_Fire.csv', 'Unknown.csv', 'Up.csv', 'Up_in_the_Air.csv', 'Usual_Suspects.csv', 'V_for_Vendetta.csv', 'Valkyrie.csv', 'Vanilla_Sky.csv', 'Verdict.csv', 'Very_Bad_Things.csv', 'Virtuosity.csv', 'Visitor.csv', 'Wag_the_Dog.csv', 'Walk_to_Remember.csv', 'Walking_Tall.csv', 'Wall-E.csv', 'Wall_Street.csv', 'Wall_Street__Money_Never_Sleeps.csv', 'Wanted.csv', 'War_Horse.csv', 'War_for_the_Planet_of_the_Apes.csv', 'War_of_the_Worlds.csv', 'Warrior.csv', 'Watchmen.csv', 'Water_for_Elephants.csv', 'Way_Back.csv', 'We_Own_the_Night.csv', 'What_Lies_Beneath.csv', 'When_a_Stranger_Calls.csv', 'While_She_Was_Out.csv', 'White_Christmas.csv', 'White_Jazz.csv', 'White_Squall.csv', 'Whiteout.csv', 'Who_s_Your_Daddy.csv', 'Wild_At_Heart.csv', 'Wild_Bunch.csv', 'Wild_Things.csv', 'Wild_Things__Diamonds_in_the_Rough.csv', 'Wild_Wild_West.csv', 'Willow.csv', 'Win_Win.csv', 'Wind_Chill.csv', 'Witness.csv', 'Wizard_of_Oz.csv', 'Wolf_of_Wall_Street.csv', 'Wonder_Boys.csv', 'Wonder_Woman.csv', 'Woodsman.csv', 'World_is_not_Enough.csv', 'Wrestler.csv', 'X-Files__Fight_the_Future.csv', 'X-Men.csv', 'X-Men_Origins__Wolverine.csv', 'Year_One.csv', 'Yes_Man.csv', 'You_Can_Count_On_Me.csv', 'You_ve_Got_Mail.csv', 'Youth_in_Revolt.csv', 'Zero_Dark_Thirty.csv', 'Zerophilia.csv', 'Zootopia.csv', 'xXx.csv']\n"
     ]
    }
   ],
   "source": [
    "print(files)"
   ]
  },
  {
   "cell_type": "code",
   "execution_count": null,
   "metadata": {},
   "outputs": [],
   "source": []
  }
 ],
 "metadata": {
  "kernelspec": {
   "display_name": "Python 3",
   "language": "python",
   "name": "python3"
  },
  "language_info": {
   "codemirror_mode": {
    "name": "ipython",
    "version": 3
   },
   "file_extension": ".py",
   "mimetype": "text/x-python",
   "name": "python",
   "nbconvert_exporter": "python",
   "pygments_lexer": "ipython3",
   "version": "3.7.0"
  }
 },
 "nbformat": 4,
 "nbformat_minor": 4
}
