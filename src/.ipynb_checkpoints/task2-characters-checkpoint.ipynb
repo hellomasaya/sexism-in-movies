{
 "cells": [
  {
   "cell_type": "code",
   "execution_count": 1,
   "metadata": {},
   "outputs": [],
   "source": [
    "import pandas as pd\n",
    "from progressbar import ProgressBar\n",
    "import warnings\n",
    "import re\n",
    "from imdb import IMDb\n",
    "ia = IMDb()\n",
    "warnings.filterwarnings(\"ignore\")\n",
    "warnings.filterwarnings(\"ignore\")"
   ]
  },
  {
   "cell_type": "code",
   "execution_count": 2,
   "metadata": {},
   "outputs": [],
   "source": [
    "import spacy\n",
    "import numpy as np\n",
    "nlp = spacy.load(\"en_core_web_sm\")"
   ]
  },
  {
   "cell_type": "code",
   "execution_count": 3,
   "metadata": {},
   "outputs": [],
   "source": [
    "# from PyDictionary import PyDictionary\n",
    "# dictionary=PyDictionary()\n",
    "import pickle"
   ]
  },
  {
   "cell_type": "code",
   "execution_count": 4,
   "metadata": {},
   "outputs": [],
   "source": [
    "def getIMDBmovies():\n",
    "    imdb_movies = pd.read_json('../data/task2/imdb_dataset.json')\n",
    "    imdb_movies = imdb_movies[['title', 'year', 'imdb_url']]\n",
    "    imdb_movies = imdb_movies.rename(columns={\"title\": \"Movie\", \"year\":\"Year\"})\n",
    "    imdb_movies = imdb_movies.sort_values(by=['Movie'], ignore_index=True)\n",
    "    return imdb_movies"
   ]
  },
  {
   "cell_type": "code",
   "execution_count": 5,
   "metadata": {},
   "outputs": [],
   "source": [
    "def getMovieID(moviename, year):\n",
    "    try:\n",
    "        dataset = pd.read_csv('../data/task2/all-charachters.csv', delimiter=',')\n",
    "        found = dataset.loc[((dataset['Movie'] == moviename) | (dataset['AltTitle'] == moviename)) & (dataset['Year']==float(year))]\n",
    "        if found.shape[0] == 1:\n",
    "            m = found['imdb_url'].to_string(index=False)\n",
    "            m = m.replace(' ', '')\n",
    "            return m[29:36]\n",
    "        else: e\n",
    "    except:\n",
    "        try:\n",
    "            dataset = getIMDBmovies()\n",
    "            found = dataset.loc[((dataset['Movie'] == moviename) & (dataset['Year']==float(year)))]\n",
    "            if found.shape[0] == 1:\n",
    "                m = found['imdb_url'].to_string(index=False)\n",
    "                m = m.replace(' ', '')\n",
    "                return m[29:36]\n",
    "            else: e\n",
    "        except:\n",
    "            print(\"Processing...\")\n",
    "            try:\n",
    "                movies = ia.search_movie(moviename)\n",
    "                for movie in movies:\n",
    "                    myear = movie['year']\n",
    "                    if myear == year:\n",
    "                        return movie.movieID\n",
    "            except:\n",
    "                print(\"Cannot find movie on IMDB.\")"
   ]
  },
  {
   "cell_type": "code",
   "execution_count": 6,
   "metadata": {},
   "outputs": [],
   "source": [
    "def getCast(moviename, year):\n",
    "    print('Procuring Cast...')\n",
    "    try:\n",
    "        c = []\n",
    "        mid = getMovieID(moviename, year)\n",
    "        m = ia.get_movie(mid)\n",
    "        cast = m['cast']\n",
    "        for actor in cast:\n",
    "            c.append(actor)\n",
    "            c.append(actor.currentRole)\n",
    "        return c\n",
    "    except:\n",
    "        print(\"Cannot find movie on IMDB.\")"
   ]
  },
  {
   "cell_type": "code",
   "execution_count": 7,
   "metadata": {},
   "outputs": [],
   "source": [
    "def checkMultipleRoles(characters):\n",
    "    c = characters.copy()\n",
    "    for i,char in enumerate(c):\n",
    "        if '/' in char:\n",
    "            chars = char.split(' / ')\n",
    "            characters[i] = chars[0]\n",
    "            for j in range(1, len(chars)):\n",
    "                characters.append(chars[j])\n",
    "    return characters"
   ]
  },
  {
   "cell_type": "code",
   "execution_count": 8,
   "metadata": {},
   "outputs": [],
   "source": [
    "def getCharacters(cast):\n",
    "    allcharacters = cast[0::2]\n",
    "    characters=[]\n",
    "    for character in allcharacters:\n",
    "        char = str(character)\n",
    "        newc = re.sub(r\"(.*)(name:_)(.*)(_>)(.*)\", \"\\3\", char)\n",
    "        characters.append(newc)\n",
    "    \n",
    "    characters = checkMultipleRoles(characters)\n",
    "    return characters"
   ]
  },
  {
   "cell_type": "code",
   "execution_count": 9,
   "metadata": {},
   "outputs": [],
   "source": [
    "tags = [\",\", \"-LRB-\", \"-RRB-\", \"``\", \"\\\"\\\"\", \"''\", \",\", \"$\", \"#\", \"AFX\", \"CC\", \"CD\", \"DT\", \n",
    "\"EX\", \"FW\", \"HYPH\", \"IN\", \"JJ\", \"JJR\", \"JJS\", \"LS\", \"MD\",\n",
    "\"PDT\", \"POS\", \"PRP\", \"PRP$\", \"RB\", \"RBR\", \"RBS\", \"RP\", \"SYM\", \"TO\", \"UH\", \"VB\", \"VBD\", \n",
    "\"VBG\", \"VBN\", \"VBP\", \"VBZ\", \"WDT\", \"WP\", \"WP$\", \"WRB\", \"ADD\", \"NFP\", \"GW\", \"XX\", \"BES\", \"HVS\", \"_SP\"]\n",
    "# for tag in tags:\n",
    "#     print(spacy.explain(tag))\n",
    "# # Rules:\n",
    "# 3. If Years Old in name -> add name after that \n",
    "# 4. get first name -> If firstname in names list -> add firstname\n",
    "# 7. if entire name is NER PERSON -> add first name"
   ]
  },
  {
   "cell_type": "code",
   "execution_count": 10,
   "metadata": {},
   "outputs": [],
   "source": [
    "def checkRules(char):\n",
    "    people = ['kid', 'man', 'woman','boy', 'girl', 'guy', 'dude', 'gal', 'chick', 'chicks']\n",
    "    kin = pd.read_csv('../data/names/kinship.txt', names=['Kinship'])\n",
    "    kin = list(kin['Kinship'])\n",
    "    jobslist = pd.read_csv('../data/task2/job-titles.txt', names=['Job'])\n",
    "    jobslist = list(jobslist['Job'])\n",
    "    nation = pd.read_csv('../data/task2/nationality.txt', names=['Nationality'])\n",
    "    nation = list(nation['Nationality'])\n",
    "    animal = pd.read_csv('../data/task2/animals.txt')\n",
    "    animal = list(animal['Animal'])\n",
    "    \n",
    "    #EMPTY\n",
    "    if char == \" \" or char ==\"\":\n",
    "        return False\n",
    "    \n",
    "    #REGEX\n",
    "    if re.search(r'#',char):\n",
    "        return False\n",
    "    if re.search(r'\\'s', char):\n",
    "        return False\n",
    "    if re.search(r'[0-9]', char):\n",
    "        return False\n",
    "    \n",
    "    #POS TAG\n",
    "    doc = nlp(char)\n",
    "    count =0\n",
    "    total=0\n",
    "    for token in doc:\n",
    "        total += 1\n",
    "        if token.tag_ in tags:\n",
    "            return False\n",
    "        if token.tag_ == \"NNS\" or token.tag_ == \"NN\":\n",
    "            count += 1\n",
    "    if total == count and total !=0:\n",
    "        return False\n",
    "    \n",
    "\n",
    "    chars = char.split(' ')\n",
    "    \n",
    "    for c in chars:\n",
    "#         print(c.lower())\n",
    "        if c.lower() in jobslist:\n",
    "            return False\n",
    "        elif c.lower() in people:\n",
    "            return False\n",
    "        elif c.lower() in kin:\n",
    "            return False\n",
    "        elif c.lower() in nation:\n",
    "            return False\n",
    "        elif c.lower() in animal:\n",
    "            return False\n",
    "    \n",
    "    #JOB TITLE\n",
    "    if char.lower() in jobslist:\n",
    "        return False\n",
    "    \n",
    "    #PEOPLE\n",
    "    if char.lower() in people:\n",
    "        return False\n",
    "    \n",
    "    #KINSHIP\n",
    "    if char.lower() in kin:\n",
    "        return False\n",
    "    \n",
    "    #Nationality\n",
    "    if char.lower() in nation:\n",
    "        return False\n",
    "    \n",
    "        #Animals\n",
    "    if char.lower() in animal:\n",
    "        return False\n",
    "    \n",
    "    return True"
   ]
  },
  {
   "cell_type": "code",
   "execution_count": 11,
   "metadata": {},
   "outputs": [],
   "source": [
    "def getNamedCharacters(characters):\n",
    "    c=1\n",
    "    namedchar=[]\n",
    "    nameslist = pd.read_csv('../data/names/all-names.csv')\n",
    "    nameslist = list(nameslist['Name'])\n",
    "    for character in characters:\n",
    "        if character.lower() in nameslist:\n",
    "            namedchar.append(character)\n",
    "#         elif c==1:\n",
    "#             for name in nameslist:\n",
    "#                 char = character.lower().split(' ')\n",
    "#                 for c2 in char:\n",
    "#                     if name == c2:\n",
    "#                         print(name, \"list\")\n",
    "#                         namedchar.append(name.title())\n",
    "        elif characters.count(character)>1:\n",
    "            continue\n",
    "        elif checkRules(character):\n",
    "            namedchar.append(character)\n",
    "        \n",
    "    return namedchar"
   ]
  },
  {
   "cell_type": "code",
   "execution_count": 12,
   "metadata": {},
   "outputs": [],
   "source": [
    "def getFirstName(names):\n",
    "    fnames=[]\n",
    "    sals = pd.read_csv('../data/task2/salutation.txt', names=['Salutation'])\n",
    "    sals = list(sals['Salutation'].str.title())\n",
    "    for name in names:\n",
    "        name = name.title()\n",
    "        for sal in sals:\n",
    "            if sal in name:\n",
    "                name = name.replace(sal, '')\n",
    "                name = name.strip()\n",
    "        name = name.title()\n",
    "        doc = nlp(name)\n",
    "        if len(doc) ==1:\n",
    "            fnames.append(name)\n",
    "        elif len(doc) ==2:\n",
    "            if (doc[0].tag_==\"NNS\" or doc[0].tag_==\"NN\" or doc[0].pos_==\"SPACE\"):\n",
    "                fnames.append(doc[1].text)\n",
    "            else:\n",
    "                fnames.append(doc[0].text)\n",
    "        else:\n",
    "            fnames.append(doc[0].text)\n",
    "    return fnames"
   ]
  },
  {
   "cell_type": "code",
   "execution_count": 13,
   "metadata": {},
   "outputs": [],
   "source": [
    "# Features"
   ]
  },
  {
   "cell_type": "code",
   "execution_count": 14,
   "metadata": {},
   "outputs": [],
   "source": [
    "def checkEnd(name):\n",
    "    if name[-1] in \"aeiou\":\n",
    "        return \"vowel\"\n",
    "    return \"consonant\""
   ]
  },
  {
   "cell_type": "code",
   "execution_count": 15,
   "metadata": {},
   "outputs": [],
   "source": [
    "def letterClass(name):\n",
    "    name_list = [x for x in name]\n",
    "    vowel_counter = 0\n",
    "    consonant_counter = 0\n",
    "    for letter in name_list:\n",
    "        if letter in ['a','e','i','o','u']:\n",
    "            vowel_counter+=1\n",
    "        else:\n",
    "            consonant_counter+=1\n",
    "    \n",
    "    return vowel_counter, consonant_counter\n"
   ]
  },
  {
   "cell_type": "code",
   "execution_count": 16,
   "metadata": {},
   "outputs": [],
   "source": [
    "def checkVCDifference(data):\n",
    "    data['vcDifference']= data['ConsonantCount'] - data['VowelCount']"
   ]
  },
  {
   "cell_type": "code",
   "execution_count": 17,
   "metadata": {},
   "outputs": [],
   "source": [
    "def checkVowelCount(col):\n",
    "    if col > 2:\n",
    "        return 'more'\n",
    "    return 'less'\n",
    "\n",
    "def checkConsonantCount(col):\n",
    "    if col > 3:\n",
    "        return 'more'\n",
    "    return 'less'"
   ]
  },
  {
   "cell_type": "code",
   "execution_count": 18,
   "metadata": {},
   "outputs": [],
   "source": [
    "def checkMoreVowels(col):\n",
    "    if col == 'moreConsonants':\n",
    "        return 'less'\n",
    "    return 'more'"
   ]
  },
  {
   "cell_type": "code",
   "execution_count": 19,
   "metadata": {},
   "outputs": [],
   "source": [
    "def checkMoreDifference(col):\n",
    "    if col > 1:\n",
    "        return 'more'\n",
    "    return 'less'"
   ]
  },
  {
   "cell_type": "code",
   "execution_count": 20,
   "metadata": {},
   "outputs": [],
   "source": [
    "def getASCII(name):\n",
    "    asciiVal = 0\n",
    "    for x in name:\n",
    "        asciiVal += ord(x)-97\n",
    "    return asciiVal/len(name)"
   ]
  },
  {
   "cell_type": "code",
   "execution_count": 21,
   "metadata": {},
   "outputs": [],
   "source": [
    "def compareVowels(data):\n",
    "    data['vcCompare']= np.where(data['ConsonantCount'] == data['VowelCount'], 'equal', np.where(\n",
    "    data['ConsonantCount'] > data['VowelCount'], 'moreConsonants', 'moreVowels')) "
   ]
  },
  {
   "cell_type": "code",
   "execution_count": 22,
   "metadata": {},
   "outputs": [],
   "source": [
    "def dropColumns(data, collist):\n",
    "    data = data.drop(columns=collist)\n",
    "    return data"
   ]
  },
  {
   "cell_type": "code",
   "execution_count": 23,
   "metadata": {},
   "outputs": [],
   "source": [
    "def makeBinary(data, cols, zero, one):\n",
    "    for col in cols:\n",
    "        data[col] = np.where((data[col] == zero),0,data[col])        \n",
    "        data[col] = np.where((data[col] == one),1,data[col])\n",
    "    return data"
   ]
  },
  {
   "cell_type": "code",
   "execution_count": 24,
   "metadata": {},
   "outputs": [],
   "source": [
    "def getFeatures(data):\n",
    "    print('Predicting Genders...')\n",
    "    data[\"EndsWith\"] = data[\"Name\"].apply(checkEnd)\n",
    "    data['VowelCount'] = data['Name'].apply(lambda x: letterClass(x)[0])\n",
    "    data['ConsonantCount'] = data['Name'].apply(lambda x: letterClass(x)[1])\n",
    "    checkVCDifference(data)\n",
    "    data[\"VowelCountClass\"] = data[\"VowelCount\"].apply(checkVowelCount)\n",
    "    data[\"ConsonantCountClass\"] = data[\"ConsonantCount\"].apply(checkConsonantCount)\n",
    "    compareVowels(data)\n",
    "    data[\"MoreVowels\"] = data[\"vcCompare\"].apply(checkMoreVowels)\n",
    "    data[\"MoreDifferenceClass\"] = data[\"vcDifference\"].apply(checkMoreDifference)\n",
    "    data[\"ASCIIval\"] = data[\"Name\"].apply(getASCII)\n",
    "    data = dropColumns(data, ['vcCompare', 'ConsonantCountClass', 'Name'])\n",
    "    data = makeBinary(data, ['VowelCountClass', 'MoreVowels', 'MoreDifferenceClass'], 'less', 'more')\n",
    "    data = makeBinary(data, ['EndsWith'], 'consonant', 'vowel')\n",
    "    return data"
   ]
  },
  {
   "cell_type": "code",
   "execution_count": 25,
   "metadata": {},
   "outputs": [],
   "source": [
    "def plotPredictions(svm, dtc, movie, year):\n",
    "    print('Plotting Distribution...')\n",
    "    df = pd.DataFrame(columns=['SVM', 'DecisionTree'])\n",
    "\n",
    "    svm = pd.DataFrame(svm, columns=['Gender'])\n",
    "    svm = pd.DataFrame(svm.value_counts(['Gender']).reset_index(name='Count'))\n",
    "    \n",
    "    dtc = pd.DataFrame(dtc, columns=['Gender'])\n",
    "    dtc = pd.DataFrame(dtc.value_counts(['Gender']).reset_index(name='Count'))\n",
    "    \n",
    "    df['SVM'] = svm['Count']\n",
    "    df['DecisionTree'] = dtc['Count']\n",
    "    df['Gender'] = svm['Gender']\n",
    "    \n",
    "    df = df.replace(0, 'Male')\n",
    "    df = df.replace(1, 'Female')\n",
    "    df = df.set_index('Gender')\n",
    "    \n",
    "    title = 'Distribution of Characters:' + movie + '(' + str(year) + ')'\n",
    "    \n",
    "    plot = df.plot.pie(subplots=True, figsize=(13, 5), colors = ['#66b3ff','#99ff99'], autopct = \"%.2f%%\", labeldistance=1.15, title=title)"
   ]
  },
  {
   "cell_type": "code",
   "execution_count": 26,
   "metadata": {},
   "outputs": [],
   "source": [
    "def getPredictions(data):\n",
    "    with open('./models/svm-names', 'rb') as file:  \n",
    "        svm = pickle.load(file)\n",
    "    predictions = svm.predict(data)\n",
    "    \n",
    "    with open('./models/dtc-names', 'rb') as file2:  \n",
    "        dtc = pickle.load(file2)\n",
    "    predictions_dtc = dtc.predict(data)\n",
    "    return predictions, predictions_dtc"
   ]
  },
  {
   "cell_type": "code",
   "execution_count": 36,
   "metadata": {},
   "outputs": [],
   "source": [
    "def getDistribution(movie, year):\n",
    "    cast = getCast(movie, year)\n",
    "    actors = getCharacters(cast)\n",
    "    fnames = getFirstName(actors)\n",
    "    data = pd.DataFrame(fnames, columns=['Name'])\n",
    "    data = getFeatures(data)\n",
    "    svm, dtc = getPredictions(data)\n",
    "    plotPredictions(svm, dtc, movie, year)"
   ]
  },
  {
   "cell_type": "code",
   "execution_count": 38,
   "metadata": {},
   "outputs": [
    {
     "name": "stdout",
     "output_type": "stream",
     "text": [
      "Procuring Cast...\n",
      "Predicting Genders...\n",
      "Plotting Distribution...\n"
     ]
    },
    {
     "data": {
      "image/png": "[encoded data removed]",
      "text/plain": [
       "<Figure size 936x360 with 2 Axes>"
      ]
     },
     "metadata": {},
     "output_type": "display_data"
    }
   ],
   "source": [
    "movie ='21'\n",
    "year = 2008\n",
    "getDistribution(movie, year)"
   ]
  },
  {
   "cell_type": "code",
   "execution_count": null,
   "metadata": {},
   "outputs": [],
   "source": []
  },
  {
   "cell_type": "code",
   "execution_count": null,
   "metadata": {},
   "outputs": [],
   "source": []
  }
 ],
 "metadata": {
  "kernelspec": {
   "display_name": "Python 3",
   "language": "python",
   "name": "python3"
  },
  "language_info": {
   "codemirror_mode": {
    "name": "ipython",
    "version": 3
   },
   "file_extension": ".py",
   "mimetype": "text/x-python",
   "name": "python",
   "nbconvert_exporter": "python",
   "pygments_lexer": "ipython3",
   "version": "3.7.0"
  }
 },
 "nbformat": 4,
 "nbformat_minor": 4
}
