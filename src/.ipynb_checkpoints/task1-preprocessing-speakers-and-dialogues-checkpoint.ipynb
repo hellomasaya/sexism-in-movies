{
 "cells": [
  {
   "cell_type": "code",
   "execution_count": 1,
   "metadata": {},
   "outputs": [],
   "source": [
    "import pandas as pd"
   ]
  },
  {
   "cell_type": "code",
   "execution_count": 2,
   "metadata": {},
   "outputs": [],
   "source": [
    "filenames=[]\n",
    "for code in range(ord('a'), ord('l') + 1):\n",
    "    name = \"dialogues_a\" + chr(code) + \".txt\"\n",
    "    filenames.append(name)"
   ]
  },
  {
   "cell_type": "code",
   "execution_count": 3,
   "metadata": {},
   "outputs": [],
   "source": [
    "def getData(filename):\n",
    "    path = \"../data/Dialogues_and_speakers_all_scripts/\"\n",
    "    file = open(path+filename, 'r')\n",
    "    data = file.read()\n",
    "    data = data.replace('\\n\\n', '\\n')\n",
    "    data = '\\n\\n' + data\n",
    "    data = data.replace('\\n****', '\\n\\n****')\n",
    "    scripts = data.split('\\n\\n')\n",
    "    scripts[1] = scripts[1][1:]\n",
    "    return scripts"
   ]
  },
  {
   "cell_type": "code",
   "execution_count": 4,
   "metadata": {},
   "outputs": [],
   "source": [
    "def getMovieTitle(script):\n",
    "    text = script.split('\\n')\n",
    "    name = text[0]\n",
    "    text.pop(0)\n",
    "    title = name.replace('****Dialogues from script :', '')    \n",
    "    title = title.replace('.txt****', '')\n",
    "#     print(title, len(text))\n",
    "    if len(text) < 50:\n",
    "        return '', [], False\n",
    "    return title, text, True"
   ]
  },
  {
   "cell_type": "code",
   "execution_count": 5,
   "metadata": {},
   "outputs": [],
   "source": [
    "def extractSpeakerDialogArray(text):\n",
    "    c=0\n",
    "    array = []\n",
    "    for line in text:\n",
    "        sd = line.split('\\t\\t')\n",
    "        try: \n",
    "            c+=1\n",
    "            speaker = sd[0]\n",
    "            dialogue = sd[1]\n",
    "            array.append(sd)\n",
    "        except:\n",
    "            print(line)\n",
    "    return array, c"
   ]
  },
  {
   "cell_type": "code",
   "execution_count": 6,
   "metadata": {},
   "outputs": [],
   "source": [
    "def saveScript(title, array):\n",
    "    df = pd.DataFrame(array, columns = ['Speaker', 'Dialogue'])\n",
    "    df.to_csv('../data/extracted/' + title +'.csv', index=False)"
   ]
  },
  {
   "cell_type": "code",
   "execution_count": 7,
   "metadata": {},
   "outputs": [
    {
     "name": "stdout",
     "output_type": "stream",
     "text": [
      "\n",
      "\n",
      "\n",
      "\n",
      "\n",
      "\n",
      "\n",
      "\n",
      "\n",
      "\n",
      "687407\n"
     ]
    }
   ],
   "source": [
    "tot=0\n",
    "for filename in filenames:\n",
    "    scripts = getData(filename)\n",
    "    scripts.pop(0)\n",
    "    for script in scripts:\n",
    "        title, text, notEmpty = getMovieTitle(script)\n",
    "        if notEmpty:\n",
    "            array, c = extractSpeakerDialogArray(text)\n",
    "#             tot+=c\n",
    "            saveScript(title, array)\n",
    "print(tot)"
   ]
  },
  {
   "cell_type": "code",
   "execution_count": null,
   "metadata": {},
   "outputs": [],
   "source": []
  }
 ],
 "metadata": {
  "kernelspec": {
   "display_name": "Python 3",
   "language": "python",
   "name": "python3"
  },
  "language_info": {
   "codemirror_mode": {
    "name": "ipython",
    "version": 3
   },
   "file_extension": ".py",
   "mimetype": "text/x-python",
   "name": "python",
   "nbconvert_exporter": "python",
   "pygments_lexer": "ipython3",
   "version": "3.7.0"
  }
 },
 "nbformat": 4,
 "nbformat_minor": 4
}
