{
 "cells": [
  {
   "cell_type": "code",
   "execution_count": 1,
   "metadata": {},
   "outputs": [],
   "source": [
    "import pandas as pd\n",
    "import numpy as np\n",
    "from progressbar import ProgressBar\n",
    "import re"
   ]
  },
  {
   "cell_type": "code",
   "execution_count": 2,
   "metadata": {},
   "outputs": [],
   "source": [
    "# get all-names and entire_data names and gender together in a file\n",
    "# if entire_data names not in all-names ony then add then to new file\n",
    "# Use these to assign gender labels to scripts in extracted/ folder\n",
    "# Then run bechdel test"
   ]
  },
  {
   "cell_type": "code",
   "execution_count": 6,
   "metadata": {},
   "outputs": [],
   "source": [
    "# def bechdel_test_one(script):\n",
    "    # if there are at least two female characters"
   ]
  },
  {
   "cell_type": "code",
   "execution_count": 7,
   "metadata": {},
   "outputs": [],
   "source": [
    "# def bechdel_test_two(script):\n",
    "# if two female characters talking\n",
    "#     prev_speaker = None\n",
    "#     test_passed = False\n",
    "#     for speaker, line in script:\n",
    "#         if speaker in female_names:\n",
    "#             if prev_speaker != speaker and prev_speaker is not None: #two women are talking!\n",
    "#                 test_passed = True\n",
    "#                 break\n",
    "#             else:\n",
    "#                 prev_speaker = speaker\n",
    "#         else:\n",
    "#             prev_speaker = None\n",
    "#     return test_passed"
   ]
  },
  {
   "cell_type": "code",
   "execution_count": 8,
   "metadata": {},
   "outputs": [],
   "source": [
    "# def bechdel_test_three(script):\n",
    "#     prev_speaker = None\n",
    "#     test_passed = False\n",
    "#     for speaker, line in script:\n",
    "#         if speaker in female_names: #woman talking\n",
    "#             if prev_speaker != speaker and prev_speaker is not None: #two women are talking...\n",
    "#                 talking_about_men=False #are they talking about men?\n",
    "#                 for name in male_names:\n",
    "#                     if name in line:\n",
    "#                         talking_about_men=True\n",
    "#                 if talking_about_men:  # They're talking about men\n",
    "#                     test_passed = False\n",
    "#                 else:  # They're not talking about men!\n",
    "#                     test_passed= True\n",
    "#             else:  # prev speaker was a male/this speaker\n",
    "#                 prev_speaker = speaker\n",
    "#         else:  # if a woman-to-woman male-free discussion was completed, return True\n",
    "#             if test_passed==True:\n",
    "#                 break\n",
    "#             else:\n",
    "#                 prev_speaker = None\n",
    "#     return test_passed"
   ]
  },
  {
   "cell_type": "code",
   "execution_count": null,
   "metadata": {},
   "outputs": [],
   "source": [
    "# https://github.com/stefanomezza/bechdel-test/blob/master/BechdelTest.py"
   ]
  }
 ],
 "metadata": {
  "kernelspec": {
   "display_name": "Python 3",
   "language": "python",
   "name": "python3"
  },
  "language_info": {
   "codemirror_mode": {
    "name": "ipython",
    "version": 3
   },
   "file_extension": ".py",
   "mimetype": "text/x-python",
   "name": "python",
   "nbconvert_exporter": "python",
   "pygments_lexer": "ipython3",
   "version": "3.7.0"
  }
 },
 "nbformat": 4,
 "nbformat_minor": 4
}
