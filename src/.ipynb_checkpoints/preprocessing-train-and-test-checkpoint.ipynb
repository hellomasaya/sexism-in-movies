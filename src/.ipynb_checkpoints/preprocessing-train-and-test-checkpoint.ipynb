{
 "cells": [
  {
   "cell_type": "code",
   "execution_count": 47,
   "metadata": {},
   "outputs": [],
   "source": [
    "import pandas as pd\n",
    "import os\n",
    "from progressbar import ProgressBar"
   ]
  },
  {
   "cell_type": "code",
   "execution_count": 40,
   "metadata": {},
   "outputs": [],
   "source": [
    "def getData(file):\n",
    "    data = pd.read_csv(\"../data/extracted/\"+file,delimiter=',')\n",
    "    return data"
   ]
  },
  {
   "cell_type": "code",
   "execution_count": 41,
   "metadata": {},
   "outputs": [],
   "source": [
    "def convertToModelInputFormat(data):\n",
    "    ans = []\n",
    "    speakers = list(set(list(data['Speaker'])))\n",
    "    for speaker in speakers:\n",
    "        dialogues = data[data['Speaker']==speaker]\n",
    "        dialogues = list(dialogues['Dialogue'])\n",
    "        temp = []\n",
    "        temp.append(speaker)\n",
    "        temp.append(dialogues)\n",
    "        ans.append(temp)\n",
    "    return ans"
   ]
  },
  {
   "cell_type": "code",
   "execution_count": null,
   "metadata": {},
   "outputs": [],
   "source": [
    "def getTrueLabels():\n",
    "    return entire_data"
   ]
  },
  {
   "cell_type": "code",
   "execution_count": 68,
   "metadata": {},
   "outputs": [],
   "source": [
    "def test_train_split(entire_data):\n",
    "    data = entire_data.copy()\n",
    "    train_set = data.sample(frac=0.70, random_state=0)\n",
    "    test_set = data.drop(train_set.index)\n",
    "    train_set_labels = train_set.pop('Gender')\n",
    "    test_set_labels = test_set.pop('Gender')\n",
    "    "
   ]
  },
  {
   "cell_type": "code",
   "execution_count": 67,
   "metadata": {},
   "outputs": [
    {
     "name": "stderr",
     "output_type": "stream",
     "text": [
      "100% |########################################################################|\n"
     ]
    },
    {
     "data": {
      "text/html": [
       "<div>\n",
       "<style scoped>\n",
       "    .dataframe tbody tr th:only-of-type {\n",
       "        vertical-align: middle;\n",
       "    }\n",
       "\n",
       "    .dataframe tbody tr th {\n",
       "        vertical-align: top;\n",
       "    }\n",
       "\n",
       "    .dataframe thead th {\n",
       "        text-align: right;\n",
       "    }\n",
       "</style>\n",
       "<table border=\"1\" class=\"dataframe\">\n",
       "  <thead>\n",
       "    <tr style=\"text-align: right;\">\n",
       "      <th></th>\n",
       "      <th>Speaker</th>\n",
       "      <th>Dialogues</th>\n",
       "    </tr>\n",
       "  </thead>\n",
       "  <tbody>\n",
       "    <tr>\n",
       "      <th>1</th>\n",
       "      <td>patrick</td>\n",
       "      <td>[I missed you., It was a bratwurst.  I was eat...</td>\n",
       "    </tr>\n",
       "    <tr>\n",
       "      <th>2</th>\n",
       "      <td>cohort</td>\n",
       "      <td>[Virgin alert.]</td>\n",
       "    </tr>\n",
       "    <tr>\n",
       "      <th>3</th>\n",
       "      <td>guy</td>\n",
       "      <td>[Drink up, sister.]</td>\n",
       "    </tr>\n",
       "    <tr>\n",
       "      <th>4</th>\n",
       "      <td>michael</td>\n",
       "      <td>[You the new guy?, C'mon.  I'm supposed to giv...</td>\n",
       "    </tr>\n",
       "    <tr>\n",
       "      <th>5</th>\n",
       "      <td>girl</td>\n",
       "      <td>[Awesome shoes.]</td>\n",
       "    </tr>\n",
       "    <tr>\n",
       "      <th>...</th>\n",
       "      <td>...</td>\n",
       "      <td>...</td>\n",
       "    </tr>\n",
       "    <tr>\n",
       "      <th>42839</th>\n",
       "      <td>gibbons</td>\n",
       "      <td>[Evening, Sam., Not a whole helluva lot. His f...</td>\n",
       "    </tr>\n",
       "    <tr>\n",
       "      <th>42840</th>\n",
       "      <td>slovo</td>\n",
       "      <td>[Sit down., My name is Slovo, Czech secret pol...</td>\n",
       "    </tr>\n",
       "    <tr>\n",
       "      <th>42841</th>\n",
       "      <td>virg</td>\n",
       "      <td>[What's so damn funny?, Heads up, man. What's ...</td>\n",
       "    </tr>\n",
       "    <tr>\n",
       "      <th>42842</th>\n",
       "      <td>anders</td>\n",
       "      <td>[The X man! We seen your bootleg videos!, Ten!...</td>\n",
       "    </tr>\n",
       "    <tr>\n",
       "      <th>42843</th>\n",
       "      <td>nerdy agent</td>\n",
       "      <td>[This is your communicator. You'll identify yo...</td>\n",
       "    </tr>\n",
       "  </tbody>\n",
       "</table>\n",
       "<p>42843 rows × 2 columns</p>\n",
       "</div>"
      ],
      "text/plain": [
       "           Speaker                                          Dialogues\n",
       "1          patrick  [I missed you., It was a bratwurst.  I was eat...\n",
       "2           cohort                                    [Virgin alert.]\n",
       "3              guy                                [Drink up, sister.]\n",
       "4          michael  [You the new guy?, C'mon.  I'm supposed to giv...\n",
       "5             girl                                   [Awesome shoes.]\n",
       "...            ...                                                ...\n",
       "42839      gibbons  [Evening, Sam., Not a whole helluva lot. His f...\n",
       "42840        slovo  [Sit down., My name is Slovo, Czech secret pol...\n",
       "42841         virg  [What's so damn funny?, Heads up, man. What's ...\n",
       "42842       anders  [The X man! We seen your bootleg videos!, Ten!...\n",
       "42843  nerdy agent  [This is your communicator. You'll identify yo...\n",
       "\n",
       "[42843 rows x 2 columns]"
      ]
     },
     "execution_count": 67,
     "metadata": {},
     "output_type": "execute_result"
    }
   ],
   "source": [
    "entire_data = pd.DataFrame([['Speaker', ['d1']]], columns=['Speaker', 'Dialogues'])\n",
    "files = os.listdir('../data/extracted')\n",
    "files.sort()\n",
    "pbar = ProgressBar()\n",
    "for file in pbar(files):\n",
    "    if file[-4:] != \".csv\":\n",
    "        continue\n",
    "    else:\n",
    "        data = getData(file)\n",
    "        ans = convertToModelInputFormat(data)\n",
    "        df = pd.DataFrame(ans, columns = ['Speaker', 'Dialogues'])\n",
    "        entire_data = entire_data.append(df, ignore_index=True)\n",
    "\n",
    "entire_data = entire_data.drop(0)\n",
    "entire_data"
   ]
  },
  {
   "cell_type": "code",
   "execution_count": 54,
   "metadata": {},
   "outputs": [],
   "source": []
  },
  {
   "cell_type": "code",
   "execution_count": null,
   "metadata": {},
   "outputs": [],
   "source": []
  },
  {
   "cell_type": "code",
   "execution_count": null,
   "metadata": {},
   "outputs": [],
   "source": []
  },
  {
   "cell_type": "code",
   "execution_count": null,
   "metadata": {},
   "outputs": [],
   "source": []
  },
  {
   "cell_type": "code",
   "execution_count": null,
   "metadata": {},
   "outputs": [],
   "source": []
  }
 ],
 "metadata": {
  "kernelspec": {
   "display_name": "Python 3",
   "language": "python",
   "name": "python3"
  },
  "language_info": {
   "codemirror_mode": {
    "name": "ipython",
    "version": 3
   },
   "file_extension": ".py",
   "mimetype": "text/x-python",
   "name": "python",
   "nbconvert_exporter": "python",
   "pygments_lexer": "ipython3",
   "version": "3.7.0"
  }
 },
 "nbformat": 4,
 "nbformat_minor": 4
}
