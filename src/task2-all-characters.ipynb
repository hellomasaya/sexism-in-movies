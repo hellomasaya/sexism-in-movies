{
 "cells": [
  {
   "cell_type": "code",
   "execution_count": 477,
   "metadata": {},
   "outputs": [],
   "source": [
    "# import requests\n",
    "import pandas as pd\n",
    "import numpy as np\n",
    "# from bs4 import BeautifulSoup\n",
    "from imdb import IMDb\n",
    "import warnings\n",
    "from progressbar import ProgressBar\n",
    "warnings.filterwarnings(\"ignore\")\n",
    "warnings.filterwarnings(\"ignore\")"
   ]
  },
  {
   "cell_type": "code",
   "execution_count": 478,
   "metadata": {},
   "outputs": [],
   "source": [
    "def getData():\n",
    "    imdb_movies = pd.read_json('../data/characters/imdb_dataset.json')\n",
    "    imdb_movies = imdb_movies[['title', 'year', 'imdb_url']]\n",
    "    imdb_movies = imdb_movies.rename(columns={\"title\": \"Movie\", \"year\":\"Year\"})\n",
    "    imdb_movies=imdb_movies.sort_values(by=['Movie'], ignore_index=True)\n",
    "\n",
    "    listofmovies = pd.read_csv(\"../data/final_movies_list.csv\",delimiter='\\t')\n",
    "    listofmovies['Year'] = listofmovies['Year'].astype(np.float64)\n",
    "    listofmovies = listofmovies[['Movie', 'Year']]\n",
    "    listofmovies=listofmovies.sort_values(by=['Movie'], ignore_index=True)\n",
    "    \n",
    "    return listofmovies, imdb_movies"
   ]
  },
  {
   "cell_type": "code",
   "execution_count": 479,
   "metadata": {},
   "outputs": [],
   "source": [
    "l, i = getData()\n",
    "i['Movie'] = i[\"Movie\"].str.title()\n",
    "l['Movie'] = l[\"Movie\"].str.title()\n",
    "l[\"Movie\"] = l[\"Movie\"].str.replace(r\"^([^,]*), (The)\",r\"\\2 \\1\",regex=True)"
   ]
  },
  {
   "cell_type": "code",
   "execution_count": 480,
   "metadata": {},
   "outputs": [
    {
     "data": {
      "text/html": [
       "<div>\n",
       "<style scoped>\n",
       "    .dataframe tbody tr th:only-of-type {\n",
       "        vertical-align: middle;\n",
       "    }\n",
       "\n",
       "    .dataframe tbody tr th {\n",
       "        vertical-align: top;\n",
       "    }\n",
       "\n",
       "    .dataframe thead th {\n",
       "        text-align: right;\n",
       "    }\n",
       "</style>\n",
       "<table border=\"1\" class=\"dataframe\">\n",
       "  <thead>\n",
       "    <tr style=\"text-align: right;\">\n",
       "      <th></th>\n",
       "      <th>Movie</th>\n",
       "      <th>Year</th>\n",
       "    </tr>\n",
       "  </thead>\n",
       "  <tbody>\n",
       "    <tr>\n",
       "      <th>0</th>\n",
       "      <td>10 Things I Hate About You</td>\n",
       "      <td>1999.0</td>\n",
       "    </tr>\n",
       "    <tr>\n",
       "      <th>1</th>\n",
       "      <td>12</td>\n",
       "      <td>2010.0</td>\n",
       "    </tr>\n",
       "    <tr>\n",
       "      <th>2</th>\n",
       "      <td>12 Monkeys</td>\n",
       "      <td>1995.0</td>\n",
       "    </tr>\n",
       "    <tr>\n",
       "      <th>3</th>\n",
       "      <td>12 Years A Slave</td>\n",
       "      <td>2013.0</td>\n",
       "    </tr>\n",
       "    <tr>\n",
       "      <th>4</th>\n",
       "      <td>12 And Holding</td>\n",
       "      <td>2005.0</td>\n",
       "    </tr>\n",
       "    <tr>\n",
       "      <th>...</th>\n",
       "      <td>...</td>\n",
       "      <td>...</td>\n",
       "    </tr>\n",
       "    <tr>\n",
       "      <th>1132</th>\n",
       "      <td>Youth In Revolt</td>\n",
       "      <td>2009.0</td>\n",
       "    </tr>\n",
       "    <tr>\n",
       "      <th>1133</th>\n",
       "      <td>Zero Dark Thirty</td>\n",
       "      <td>2012.0</td>\n",
       "    </tr>\n",
       "    <tr>\n",
       "      <th>1134</th>\n",
       "      <td>Zerophilia</td>\n",
       "      <td>2005.0</td>\n",
       "    </tr>\n",
       "    <tr>\n",
       "      <th>1135</th>\n",
       "      <td>Zootopia</td>\n",
       "      <td>2016.0</td>\n",
       "    </tr>\n",
       "    <tr>\n",
       "      <th>1136</th>\n",
       "      <td>Xxx</td>\n",
       "      <td>2002.0</td>\n",
       "    </tr>\n",
       "  </tbody>\n",
       "</table>\n",
       "<p>1137 rows × 2 columns</p>\n",
       "</div>"
      ],
      "text/plain": [
       "                           Movie    Year\n",
       "0     10 Things I Hate About You  1999.0\n",
       "1                             12  2010.0\n",
       "2                     12 Monkeys  1995.0\n",
       "3               12 Years A Slave  2013.0\n",
       "4                 12 And Holding  2005.0\n",
       "...                          ...     ...\n",
       "1132             Youth In Revolt  2009.0\n",
       "1133            Zero Dark Thirty  2012.0\n",
       "1134                  Zerophilia  2005.0\n",
       "1135                    Zootopia  2016.0\n",
       "1136                         Xxx  2002.0\n",
       "\n",
       "[1137 rows x 2 columns]"
      ]
     },
     "execution_count": 480,
     "metadata": {},
     "output_type": "execute_result"
    }
   ],
   "source": [
    "l"
   ]
  },
  {
   "cell_type": "code",
   "execution_count": 481,
   "metadata": {},
   "outputs": [
    {
     "data": {
      "text/html": [
       "<div>\n",
       "<style scoped>\n",
       "    .dataframe tbody tr th:only-of-type {\n",
       "        vertical-align: middle;\n",
       "    }\n",
       "\n",
       "    .dataframe tbody tr th {\n",
       "        vertical-align: top;\n",
       "    }\n",
       "\n",
       "    .dataframe thead th {\n",
       "        text-align: right;\n",
       "    }\n",
       "</style>\n",
       "<table border=\"1\" class=\"dataframe\">\n",
       "  <thead>\n",
       "    <tr style=\"text-align: right;\">\n",
       "      <th></th>\n",
       "      <th>Movie</th>\n",
       "      <th>Year</th>\n",
       "      <th>imdb_url</th>\n",
       "    </tr>\n",
       "  </thead>\n",
       "  <tbody>\n",
       "    <tr>\n",
       "      <th>0</th>\n",
       "      <td>#1 Serial Killer</td>\n",
       "      <td>2013.0</td>\n",
       "      <td>https://www.imdb.com/title/tt2346170/</td>\n",
       "    </tr>\n",
       "    <tr>\n",
       "      <th>1</th>\n",
       "      <td>#5</td>\n",
       "      <td>2013.0</td>\n",
       "      <td>https://www.imdb.com/title/tt3120962/</td>\n",
       "    </tr>\n",
       "    <tr>\n",
       "      <th>2</th>\n",
       "      <td>#Captured</td>\n",
       "      <td>2017.0</td>\n",
       "      <td>https://www.imdb.com/title/tt6856592/</td>\n",
       "    </tr>\n",
       "    <tr>\n",
       "      <th>3</th>\n",
       "      <td>#Digitallivesmatter</td>\n",
       "      <td>2016.0</td>\n",
       "      <td>https://www.imdb.com/title/tt5803530/</td>\n",
       "    </tr>\n",
       "    <tr>\n",
       "      <th>4</th>\n",
       "      <td>#Enough</td>\n",
       "      <td>2015.0</td>\n",
       "      <td>https://www.imdb.com/title/tt5460468/</td>\n",
       "    </tr>\n",
       "    <tr>\n",
       "      <th>...</th>\n",
       "      <td>...</td>\n",
       "      <td>...</td>\n",
       "      <td>...</td>\n",
       "    </tr>\n",
       "    <tr>\n",
       "      <th>58618</th>\n",
       "      <td>¡Qué Hacer!</td>\n",
       "      <td>1972.0</td>\n",
       "      <td>https://www.imdb.com/title/tt0066614/</td>\n",
       "    </tr>\n",
       "    <tr>\n",
       "      <th>58619</th>\n",
       "      <td>¡Three Amigos!</td>\n",
       "      <td>1986.0</td>\n",
       "      <td>https://www.imdb.com/title/tt0092086/</td>\n",
       "    </tr>\n",
       "    <tr>\n",
       "      <th>58620</th>\n",
       "      <td>Á Colombia</td>\n",
       "      <td>2006.0</td>\n",
       "      <td>https://www.imdb.com/title/tt0827790/</td>\n",
       "    </tr>\n",
       "    <tr>\n",
       "      <th>58621</th>\n",
       "      <td>Æon Flux</td>\n",
       "      <td>2005.0</td>\n",
       "      <td>https://www.imdb.com/title/tt0402022/</td>\n",
       "    </tr>\n",
       "    <tr>\n",
       "      <th>58622</th>\n",
       "      <td>Îlé Aiyé</td>\n",
       "      <td>1989.0</td>\n",
       "      <td>https://www.imdb.com/title/tt0098730/</td>\n",
       "    </tr>\n",
       "  </tbody>\n",
       "</table>\n",
       "<p>58623 rows × 3 columns</p>\n",
       "</div>"
      ],
      "text/plain": [
       "                     Movie    Year                               imdb_url\n",
       "0         #1 Serial Killer  2013.0  https://www.imdb.com/title/tt2346170/\n",
       "1                       #5  2013.0  https://www.imdb.com/title/tt3120962/\n",
       "2                #Captured  2017.0  https://www.imdb.com/title/tt6856592/\n",
       "3      #Digitallivesmatter  2016.0  https://www.imdb.com/title/tt5803530/\n",
       "4                  #Enough  2015.0  https://www.imdb.com/title/tt5460468/\n",
       "...                    ...     ...                                    ...\n",
       "58618          ¡Qué Hacer!  1972.0  https://www.imdb.com/title/tt0066614/\n",
       "58619       ¡Three Amigos!  1986.0  https://www.imdb.com/title/tt0092086/\n",
       "58620           Á Colombia  2006.0  https://www.imdb.com/title/tt0827790/\n",
       "58621             Æon Flux  2005.0  https://www.imdb.com/title/tt0402022/\n",
       "58622             Îlé Aiyé  1989.0  https://www.imdb.com/title/tt0098730/\n",
       "\n",
       "[58623 rows x 3 columns]"
      ]
     },
     "execution_count": 481,
     "metadata": {},
     "output_type": "execute_result"
    }
   ],
   "source": [
    "i"
   ]
  },
  {
   "cell_type": "code",
   "execution_count": 482,
   "metadata": {},
   "outputs": [
    {
     "data": {
      "text/plain": [
       "Movie     object\n",
       "Year     float64\n",
       "dtype: object"
      ]
     },
     "execution_count": 482,
     "metadata": {},
     "output_type": "execute_result"
    }
   ],
   "source": [
    "l.dtypes"
   ]
  },
  {
   "cell_type": "code",
   "execution_count": 483,
   "metadata": {},
   "outputs": [
    {
     "data": {
      "text/plain": [
       "Movie        object\n",
       "Year        float64\n",
       "imdb_url     object\n",
       "dtype: object"
      ]
     },
     "execution_count": 483,
     "metadata": {},
     "output_type": "execute_result"
    }
   ],
   "source": [
    "i.dtypes"
   ]
  },
  {
   "cell_type": "code",
   "execution_count": 484,
   "metadata": {},
   "outputs": [],
   "source": [
    "l=l.merge(i, how='left')"
   ]
  },
  {
   "cell_type": "code",
   "execution_count": 485,
   "metadata": {},
   "outputs": [
    {
     "data": {
      "text/html": [
       "<div>\n",
       "<style scoped>\n",
       "    .dataframe tbody tr th:only-of-type {\n",
       "        vertical-align: middle;\n",
       "    }\n",
       "\n",
       "    .dataframe tbody tr th {\n",
       "        vertical-align: top;\n",
       "    }\n",
       "\n",
       "    .dataframe thead th {\n",
       "        text-align: right;\n",
       "    }\n",
       "</style>\n",
       "<table border=\"1\" class=\"dataframe\">\n",
       "  <thead>\n",
       "    <tr style=\"text-align: right;\">\n",
       "      <th></th>\n",
       "      <th>Movie</th>\n",
       "      <th>Year</th>\n",
       "      <th>imdb_url</th>\n",
       "    </tr>\n",
       "  </thead>\n",
       "  <tbody>\n",
       "    <tr>\n",
       "      <th>0</th>\n",
       "      <td>10 Things I Hate About You</td>\n",
       "      <td>1999.0</td>\n",
       "      <td>https://www.imdb.com/title/tt0147800/</td>\n",
       "    </tr>\n",
       "    <tr>\n",
       "      <th>1</th>\n",
       "      <td>12</td>\n",
       "      <td>2010.0</td>\n",
       "      <td>NaN</td>\n",
       "    </tr>\n",
       "    <tr>\n",
       "      <th>2</th>\n",
       "      <td>12 Monkeys</td>\n",
       "      <td>1995.0</td>\n",
       "      <td>NaN</td>\n",
       "    </tr>\n",
       "    <tr>\n",
       "      <th>3</th>\n",
       "      <td>12 Years A Slave</td>\n",
       "      <td>2013.0</td>\n",
       "      <td>https://www.imdb.com/title/tt2024544/</td>\n",
       "    </tr>\n",
       "    <tr>\n",
       "      <th>4</th>\n",
       "      <td>12 And Holding</td>\n",
       "      <td>2005.0</td>\n",
       "      <td>https://www.imdb.com/title/tt0417385/</td>\n",
       "    </tr>\n",
       "    <tr>\n",
       "      <th>...</th>\n",
       "      <td>...</td>\n",
       "      <td>...</td>\n",
       "      <td>...</td>\n",
       "    </tr>\n",
       "    <tr>\n",
       "      <th>1132</th>\n",
       "      <td>Youth In Revolt</td>\n",
       "      <td>2009.0</td>\n",
       "      <td>https://www.imdb.com/title/tt0403702/</td>\n",
       "    </tr>\n",
       "    <tr>\n",
       "      <th>1133</th>\n",
       "      <td>Zero Dark Thirty</td>\n",
       "      <td>2012.0</td>\n",
       "      <td>https://www.imdb.com/title/tt1790885/</td>\n",
       "    </tr>\n",
       "    <tr>\n",
       "      <th>1134</th>\n",
       "      <td>Zerophilia</td>\n",
       "      <td>2005.0</td>\n",
       "      <td>https://www.imdb.com/title/tt0421090/</td>\n",
       "    </tr>\n",
       "    <tr>\n",
       "      <th>1135</th>\n",
       "      <td>Zootopia</td>\n",
       "      <td>2016.0</td>\n",
       "      <td>https://www.imdb.com/title/tt2948356/</td>\n",
       "    </tr>\n",
       "    <tr>\n",
       "      <th>1136</th>\n",
       "      <td>Xxx</td>\n",
       "      <td>2002.0</td>\n",
       "      <td>https://www.imdb.com/title/tt0295701/</td>\n",
       "    </tr>\n",
       "  </tbody>\n",
       "</table>\n",
       "<p>1137 rows × 3 columns</p>\n",
       "</div>"
      ],
      "text/plain": [
       "                           Movie    Year  \\\n",
       "0     10 Things I Hate About You  1999.0   \n",
       "1                             12  2010.0   \n",
       "2                     12 Monkeys  1995.0   \n",
       "3               12 Years A Slave  2013.0   \n",
       "4                 12 And Holding  2005.0   \n",
       "...                          ...     ...   \n",
       "1132             Youth In Revolt  2009.0   \n",
       "1133            Zero Dark Thirty  2012.0   \n",
       "1134                  Zerophilia  2005.0   \n",
       "1135                    Zootopia  2016.0   \n",
       "1136                         Xxx  2002.0   \n",
       "\n",
       "                                   imdb_url  \n",
       "0     https://www.imdb.com/title/tt0147800/  \n",
       "1                                       NaN  \n",
       "2                                       NaN  \n",
       "3     https://www.imdb.com/title/tt2024544/  \n",
       "4     https://www.imdb.com/title/tt0417385/  \n",
       "...                                     ...  \n",
       "1132  https://www.imdb.com/title/tt0403702/  \n",
       "1133  https://www.imdb.com/title/tt1790885/  \n",
       "1134  https://www.imdb.com/title/tt0421090/  \n",
       "1135  https://www.imdb.com/title/tt2948356/  \n",
       "1136  https://www.imdb.com/title/tt0295701/  \n",
       "\n",
       "[1137 rows x 3 columns]"
      ]
     },
     "execution_count": 485,
     "metadata": {},
     "output_type": "execute_result"
    }
   ],
   "source": [
    "l"
   ]
  },
  {
   "cell_type": "code",
   "execution_count": 486,
   "metadata": {},
   "outputs": [],
   "source": [
    "null_url = pd.isnull(l['imdb_url'])\n",
    "temp = l[null_url]"
   ]
  },
  {
   "cell_type": "code",
   "execution_count": 487,
   "metadata": {},
   "outputs": [
    {
     "data": {
      "text/html": [
       "<div>\n",
       "<style scoped>\n",
       "    .dataframe tbody tr th:only-of-type {\n",
       "        vertical-align: middle;\n",
       "    }\n",
       "\n",
       "    .dataframe tbody tr th {\n",
       "        vertical-align: top;\n",
       "    }\n",
       "\n",
       "    .dataframe thead th {\n",
       "        text-align: right;\n",
       "    }\n",
       "</style>\n",
       "<table border=\"1\" class=\"dataframe\">\n",
       "  <thead>\n",
       "    <tr style=\"text-align: right;\">\n",
       "      <th></th>\n",
       "      <th>Movie</th>\n",
       "      <th>Year</th>\n",
       "      <th>imdb_url</th>\n",
       "    </tr>\n",
       "  </thead>\n",
       "  <tbody>\n",
       "    <tr>\n",
       "      <th>1</th>\n",
       "      <td>12</td>\n",
       "      <td>2010.0</td>\n",
       "      <td>NaN</td>\n",
       "    </tr>\n",
       "    <tr>\n",
       "      <th>2</th>\n",
       "      <td>12 Monkeys</td>\n",
       "      <td>1995.0</td>\n",
       "      <td>NaN</td>\n",
       "    </tr>\n",
       "    <tr>\n",
       "      <th>9</th>\n",
       "      <td>187</td>\n",
       "      <td>1997.0</td>\n",
       "      <td>NaN</td>\n",
       "    </tr>\n",
       "    <tr>\n",
       "      <th>13</th>\n",
       "      <td>28 Days Later</td>\n",
       "      <td>2002.0</td>\n",
       "      <td>NaN</td>\n",
       "    </tr>\n",
       "    <tr>\n",
       "      <th>16</th>\n",
       "      <td>44 Inch Chest</td>\n",
       "      <td>2009.0</td>\n",
       "      <td>NaN</td>\n",
       "    </tr>\n",
       "    <tr>\n",
       "      <th>...</th>\n",
       "      <td>...</td>\n",
       "      <td>...</td>\n",
       "      <td>...</td>\n",
       "    </tr>\n",
       "    <tr>\n",
       "      <th>1103</th>\n",
       "      <td>The White Ribbon</td>\n",
       "      <td>2009.0</td>\n",
       "      <td>NaN</td>\n",
       "    </tr>\n",
       "    <tr>\n",
       "      <th>1106</th>\n",
       "      <td>Who'S Your Daddy</td>\n",
       "      <td>2017.0</td>\n",
       "      <td>NaN</td>\n",
       "    </tr>\n",
       "    <tr>\n",
       "      <th>1111</th>\n",
       "      <td>Wild Things: Diamonds In The Rough</td>\n",
       "      <td>2005.0</td>\n",
       "      <td>NaN</td>\n",
       "    </tr>\n",
       "    <tr>\n",
       "      <th>1116</th>\n",
       "      <td>Withnail And I</td>\n",
       "      <td>1987.0</td>\n",
       "      <td>NaN</td>\n",
       "    </tr>\n",
       "    <tr>\n",
       "      <th>1125</th>\n",
       "      <td>The X-Files: Fight The Future</td>\n",
       "      <td>1998.0</td>\n",
       "      <td>NaN</td>\n",
       "    </tr>\n",
       "  </tbody>\n",
       "</table>\n",
       "<p>281 rows × 3 columns</p>\n",
       "</div>"
      ],
      "text/plain": [
       "                                   Movie    Year imdb_url\n",
       "1                                     12  2010.0      NaN\n",
       "2                             12 Monkeys  1995.0      NaN\n",
       "9                                    187  1997.0      NaN\n",
       "13                         28 Days Later  2002.0      NaN\n",
       "16                         44 Inch Chest  2009.0      NaN\n",
       "...                                  ...     ...      ...\n",
       "1103                    The White Ribbon  2009.0      NaN\n",
       "1106                    Who'S Your Daddy  2017.0      NaN\n",
       "1111  Wild Things: Diamonds In The Rough  2005.0      NaN\n",
       "1116                      Withnail And I  1987.0      NaN\n",
       "1125       The X-Files: Fight The Future  1998.0      NaN\n",
       "\n",
       "[281 rows x 3 columns]"
      ]
     },
     "execution_count": 487,
     "metadata": {},
     "output_type": "execute_result"
    }
   ],
   "source": [
    "temp"
   ]
  },
  {
   "cell_type": "code",
   "execution_count": 488,
   "metadata": {},
   "outputs": [],
   "source": [
    "ia = IMDb()"
   ]
  },
  {
   "cell_type": "code",
   "execution_count": 489,
   "metadata": {},
   "outputs": [],
   "source": [
    "def getNULLMovies(temp):\n",
    "    m_dict = dict(zip(temp[\"Movie\"], temp[\"Year\"]))\n",
    "    pbar = ProgressBar()\n",
    "    for key, value in pbar(m_dict.items()):\n",
    "        movies = ia.search_movie(key)\n",
    "        for movie in movies:\n",
    "            try:\n",
    "                year = movie['year']\n",
    "                if float(year) == value:\n",
    "                    mid = movie.movieID\n",
    "                    title = movie['title']\n",
    "                    l.loc[l[\"Movie\"] == key, \"imdb_url\"] = 'https://www.imdb.com/title/tt' + mid +'/'\n",
    "                    l.loc[l[\"Movie\"] == key, \"AltTitle\"] = title\n",
    "                    break\n",
    "            except:\n",
    "                print(\"Error:\", movie, key, value)"
   ]
  },
  {
   "cell_type": "code",
   "execution_count": 490,
   "metadata": {},
   "outputs": [
    {
     "name": "stderr",
     "output_type": "stream",
     "text": [
      "  6% |####                                                                    |\r"
     ]
    },
    {
     "name": "stdout",
     "output_type": "stream",
     "text": [
      "Error: The American The American 2017.0\n"
     ]
    },
    {
     "name": "stderr",
     "output_type": "stream",
     "text": [
      " 13% |#########                                                               |\r"
     ]
    },
    {
     "name": "stdout",
     "output_type": "stream",
     "text": [
      "Error: The Birds (in development) The Birds 2020.0\n"
     ]
    },
    {
     "name": "stderr",
     "output_type": "stream",
     "text": [
      " 16% |###########                                                             |\r"
     ]
    },
    {
     "name": "stdout",
     "output_type": "stream",
     "text": [
      "Error: Bonfire of the Vanities (in development) Bonfire Of The Vanities 1990.0\n"
     ]
    },
    {
     "name": "stderr",
     "output_type": "stream",
     "text": [
      " 26% |###################                                                     |\r"
     ]
    },
    {
     "name": "stdout",
     "output_type": "stream",
     "text": [
      "Error: The Debt The Debt 2009.0\n",
      "Error: The Descendants The Descendants 2015.0\n"
     ]
    },
    {
     "name": "stderr",
     "output_type": "stream",
     "text": [
      " 39% |############################                                            |\r"
     ]
    },
    {
     "name": "stdout",
     "output_type": "stream",
     "text": [
      "Error: Guardians of the Galaxy Vol 2 Guardians Of The Galaxy Vol 2 2017.0\n"
     ]
    },
    {
     "name": "stderr",
     "output_type": "stream",
     "text": [
      " 45% |#################################                                       |\r"
     ]
    },
    {
     "name": "stdout",
     "output_type": "stream",
     "text": [
      "Error: The Hospital (in development) The Hospital 1963.0\n"
     ]
    },
    {
     "name": "stderr",
     "output_type": "stream",
     "text": [
      " 52% |#####################################                                   |\r"
     ]
    },
    {
     "name": "stdout",
     "output_type": "stream",
     "text": [
      "Error: Labor of Love  (in development) Labor Of Love 2015.0\n"
     ]
    },
    {
     "name": "stderr",
     "output_type": "stream",
     "text": [
      " 64% |##############################################                          |\r"
     ]
    },
    {
     "name": "stdout",
     "output_type": "stream",
     "text": [
      "Error: Ni vu ni connu Ni Vu Ni Connu 1958.0\n"
     ]
    },
    {
     "name": "stderr",
     "output_type": "stream",
     "text": [
      " 71% |###################################################                     |\r"
     ]
    },
    {
     "name": "stdout",
     "output_type": "stream",
     "text": [
      "Error: The Prophecy of Time The Prophecy 1979.0\n"
     ]
    },
    {
     "name": "stderr",
     "output_type": "stream",
     "text": [
      " 75% |######################################################                  |\r"
     ]
    },
    {
     "name": "stdout",
     "output_type": "stream",
     "text": [
      "Error: The Roommate The Roommate 1961.0\n"
     ]
    },
    {
     "name": "stderr",
     "output_type": "stream",
     "text": [
      " 79% |########################################################                |\r"
     ]
    },
    {
     "name": "stdout",
     "output_type": "stream",
     "text": [
      "Error: The Sessions (in development) The Sessions 2020.0\n"
     ]
    },
    {
     "name": "stderr",
     "output_type": "stream",
     "text": [
      " 90% |#################################################################       |\r"
     ]
    },
    {
     "name": "stdout",
     "output_type": "stream",
     "text": [
      "Error: The Things They Carried The Thing 2021.0\n"
     ]
    },
    {
     "name": "stderr",
     "output_type": "stream",
     "text": [
      " 92% |##################################################################      |\r"
     ]
    },
    {
     "name": "stdout",
     "output_type": "stream",
     "text": [
      "Error: The Time Machine The Time Machine 2010.0\n"
     ]
    },
    {
     "name": "stderr",
     "output_type": "stream",
     "text": [
      " 98% |######################################################################  |\r"
     ]
    },
    {
     "name": "stdout",
     "output_type": "stream",
     "text": [
      "Error: White Jazz (in development) White Jazz 1992.0\n"
     ]
    },
    {
     "name": "stderr",
     "output_type": "stream",
     "text": [
      "100% |########################################################################|\n"
     ]
    }
   ],
   "source": [
    "l['AltTitle'] = \"\"\n",
    "getNULLMovies(temp)"
   ]
  },
  {
   "cell_type": "code",
   "execution_count": 491,
   "metadata": {},
   "outputs": [
    {
     "data": {
      "text/html": [
       "<div>\n",
       "<style scoped>\n",
       "    .dataframe tbody tr th:only-of-type {\n",
       "        vertical-align: middle;\n",
       "    }\n",
       "\n",
       "    .dataframe tbody tr th {\n",
       "        vertical-align: top;\n",
       "    }\n",
       "\n",
       "    .dataframe thead th {\n",
       "        text-align: right;\n",
       "    }\n",
       "</style>\n",
       "<table border=\"1\" class=\"dataframe\">\n",
       "  <thead>\n",
       "    <tr style=\"text-align: right;\">\n",
       "      <th></th>\n",
       "      <th>Movie</th>\n",
       "      <th>Year</th>\n",
       "      <th>imdb_url</th>\n",
       "      <th>AltTitle</th>\n",
       "    </tr>\n",
       "  </thead>\n",
       "  <tbody>\n",
       "    <tr>\n",
       "      <th>0</th>\n",
       "      <td>10 Things I Hate About You</td>\n",
       "      <td>1999.0</td>\n",
       "      <td>https://www.imdb.com/title/tt0147800/</td>\n",
       "      <td></td>\n",
       "    </tr>\n",
       "    <tr>\n",
       "      <th>1</th>\n",
       "      <td>12</td>\n",
       "      <td>2010.0</td>\n",
       "      <td>https://www.imdb.com/title/tt1407084/</td>\n",
       "      <td>Twelve</td>\n",
       "    </tr>\n",
       "    <tr>\n",
       "      <th>2</th>\n",
       "      <td>12 Monkeys</td>\n",
       "      <td>1995.0</td>\n",
       "      <td>https://www.imdb.com/title/tt0114746/</td>\n",
       "      <td>12 Monkeys</td>\n",
       "    </tr>\n",
       "    <tr>\n",
       "      <th>3</th>\n",
       "      <td>12 Years A Slave</td>\n",
       "      <td>2013.0</td>\n",
       "      <td>https://www.imdb.com/title/tt2024544/</td>\n",
       "      <td></td>\n",
       "    </tr>\n",
       "    <tr>\n",
       "      <th>4</th>\n",
       "      <td>12 And Holding</td>\n",
       "      <td>2005.0</td>\n",
       "      <td>https://www.imdb.com/title/tt0417385/</td>\n",
       "      <td></td>\n",
       "    </tr>\n",
       "    <tr>\n",
       "      <th>...</th>\n",
       "      <td>...</td>\n",
       "      <td>...</td>\n",
       "      <td>...</td>\n",
       "      <td>...</td>\n",
       "    </tr>\n",
       "    <tr>\n",
       "      <th>1132</th>\n",
       "      <td>Youth In Revolt</td>\n",
       "      <td>2009.0</td>\n",
       "      <td>https://www.imdb.com/title/tt0403702/</td>\n",
       "      <td></td>\n",
       "    </tr>\n",
       "    <tr>\n",
       "      <th>1133</th>\n",
       "      <td>Zero Dark Thirty</td>\n",
       "      <td>2012.0</td>\n",
       "      <td>https://www.imdb.com/title/tt1790885/</td>\n",
       "      <td></td>\n",
       "    </tr>\n",
       "    <tr>\n",
       "      <th>1134</th>\n",
       "      <td>Zerophilia</td>\n",
       "      <td>2005.0</td>\n",
       "      <td>https://www.imdb.com/title/tt0421090/</td>\n",
       "      <td></td>\n",
       "    </tr>\n",
       "    <tr>\n",
       "      <th>1135</th>\n",
       "      <td>Zootopia</td>\n",
       "      <td>2016.0</td>\n",
       "      <td>https://www.imdb.com/title/tt2948356/</td>\n",
       "      <td></td>\n",
       "    </tr>\n",
       "    <tr>\n",
       "      <th>1136</th>\n",
       "      <td>Xxx</td>\n",
       "      <td>2002.0</td>\n",
       "      <td>https://www.imdb.com/title/tt0295701/</td>\n",
       "      <td></td>\n",
       "    </tr>\n",
       "  </tbody>\n",
       "</table>\n",
       "<p>1137 rows × 4 columns</p>\n",
       "</div>"
      ],
      "text/plain": [
       "                           Movie    Year  \\\n",
       "0     10 Things I Hate About You  1999.0   \n",
       "1                             12  2010.0   \n",
       "2                     12 Monkeys  1995.0   \n",
       "3               12 Years A Slave  2013.0   \n",
       "4                 12 And Holding  2005.0   \n",
       "...                          ...     ...   \n",
       "1132             Youth In Revolt  2009.0   \n",
       "1133            Zero Dark Thirty  2012.0   \n",
       "1134                  Zerophilia  2005.0   \n",
       "1135                    Zootopia  2016.0   \n",
       "1136                         Xxx  2002.0   \n",
       "\n",
       "                                   imdb_url    AltTitle  \n",
       "0     https://www.imdb.com/title/tt0147800/              \n",
       "1     https://www.imdb.com/title/tt1407084/      Twelve  \n",
       "2     https://www.imdb.com/title/tt0114746/  12 Monkeys  \n",
       "3     https://www.imdb.com/title/tt2024544/              \n",
       "4     https://www.imdb.com/title/tt0417385/              \n",
       "...                                     ...         ...  \n",
       "1132  https://www.imdb.com/title/tt0403702/              \n",
       "1133  https://www.imdb.com/title/tt1790885/              \n",
       "1134  https://www.imdb.com/title/tt0421090/              \n",
       "1135  https://www.imdb.com/title/tt2948356/              \n",
       "1136  https://www.imdb.com/title/tt0295701/              \n",
       "\n",
       "[1137 rows x 4 columns]"
      ]
     },
     "execution_count": 491,
     "metadata": {},
     "output_type": "execute_result"
    }
   ],
   "source": [
    "l"
   ]
  },
  {
   "cell_type": "code",
   "execution_count": 492,
   "metadata": {},
   "outputs": [],
   "source": [
    "null_url2 = pd.isnull(l['imdb_url'])\n",
    "temp2 = l[null_url2]"
   ]
  },
  {
   "cell_type": "code",
   "execution_count": 493,
   "metadata": {},
   "outputs": [
    {
     "data": {
      "text/html": [
       "<div>\n",
       "<style scoped>\n",
       "    .dataframe tbody tr th:only-of-type {\n",
       "        vertical-align: middle;\n",
       "    }\n",
       "\n",
       "    .dataframe tbody tr th {\n",
       "        vertical-align: top;\n",
       "    }\n",
       "\n",
       "    .dataframe thead th {\n",
       "        text-align: right;\n",
       "    }\n",
       "</style>\n",
       "<table border=\"1\" class=\"dataframe\">\n",
       "  <thead>\n",
       "    <tr style=\"text-align: right;\">\n",
       "      <th></th>\n",
       "      <th>Movie</th>\n",
       "      <th>Year</th>\n",
       "      <th>imdb_url</th>\n",
       "      <th>AltTitle</th>\n",
       "    </tr>\n",
       "  </thead>\n",
       "  <tbody>\n",
       "    <tr>\n",
       "      <th>309</th>\n",
       "      <td>The Debt</td>\n",
       "      <td>2009.0</td>\n",
       "      <td>NaN</td>\n",
       "      <td></td>\n",
       "    </tr>\n",
       "    <tr>\n",
       "      <th>735</th>\n",
       "      <td>The Mummy</td>\n",
       "      <td>1971.0</td>\n",
       "      <td>NaN</td>\n",
       "      <td></td>\n",
       "    </tr>\n",
       "    <tr>\n",
       "      <th>755</th>\n",
       "      <td>Night Time (The Poltergeist Treatment)</td>\n",
       "      <td>1980.0</td>\n",
       "      <td>NaN</td>\n",
       "      <td></td>\n",
       "    </tr>\n",
       "    <tr>\n",
       "      <th>760</th>\n",
       "      <td>Nightmare On Elm Street: The Final Chapter</td>\n",
       "      <td>1991.0</td>\n",
       "      <td>NaN</td>\n",
       "      <td></td>\n",
       "    </tr>\n",
       "    <tr>\n",
       "      <th>822</th>\n",
       "      <td>Pretty Woman (Final Script)</td>\n",
       "      <td>1990.0</td>\n",
       "      <td>NaN</td>\n",
       "      <td></td>\n",
       "    </tr>\n",
       "    <tr>\n",
       "      <th>1102</th>\n",
       "      <td>White Jazz</td>\n",
       "      <td>1992.0</td>\n",
       "      <td>NaN</td>\n",
       "      <td></td>\n",
       "    </tr>\n",
       "  </tbody>\n",
       "</table>\n",
       "</div>"
      ],
      "text/plain": [
       "                                           Movie    Year imdb_url AltTitle\n",
       "309                                     The Debt  2009.0      NaN         \n",
       "735                                    The Mummy  1971.0      NaN         \n",
       "755       Night Time (The Poltergeist Treatment)  1980.0      NaN         \n",
       "760   Nightmare On Elm Street: The Final Chapter  1991.0      NaN         \n",
       "822                  Pretty Woman (Final Script)  1990.0      NaN         \n",
       "1102                                  White Jazz  1992.0      NaN         "
      ]
     },
     "execution_count": 493,
     "metadata": {},
     "output_type": "execute_result"
    }
   ],
   "source": [
    "temp2"
   ]
  },
  {
   "cell_type": "code",
   "execution_count": 494,
   "metadata": {},
   "outputs": [],
   "source": [
    "# l = l.dropna()"
   ]
  },
  {
   "cell_type": "code",
   "execution_count": 495,
   "metadata": {},
   "outputs": [],
   "source": [
    "def getCharachters(l):\n",
    "    fullcast = []\n",
    "    pbar = ProgressBar()\n",
    "    for movie in pbar(l['imdb_url']):\n",
    "        try:\n",
    "            mid = movie[29:36]\n",
    "            m = ia.get_movie(mid)\n",
    "            cast = m['cast']\n",
    "            c = []\n",
    "            for actor in cast:\n",
    "                c.append(actor)\n",
    "                c.append(actor.currentRole)\n",
    "            fullcast.append(c)\n",
    "        except:\n",
    "            fullcast.append(np.nan)\n",
    "    l['Cast'] = fullcast"
   ]
  },
  {
   "cell_type": "code",
   "execution_count": 496,
   "metadata": {},
   "outputs": [
    {
     "name": "stderr",
     "output_type": "stream",
     "text": [
      "2021-04-28 12:19:38,420 CRITICAL [imdbpy] /usr/local/lib/python3.7/site-packages/imdb/_exceptions.py:34: IMDbDataAccessError exception raised; args: ({'errcode': None, 'errmsg': 'None', 'url': 'https://www.imdb.com/title/tt0118689/reference', 'proxy': '', 'exception type': 'IOError', 'original exception': timeout('The read operation timed out')},); kwds: {}\n",
      "Traceback (most recent call last):\n",
      "  File \"/usr/local/lib/python3.7/site-packages/imdb/parser/http/__init__.py\", line 221, in retrieve_unicode\n",
      "    content = response.read()\n",
      "  File \"/usr/local/Cellar/python/3.7.0/Frameworks/Python.framework/Versions/3.7/lib/python3.7/http/client.py\", line 454, in read\n",
      "    return self._readall_chunked()\n",
      "  File \"/usr/local/Cellar/python/3.7.0/Frameworks/Python.framework/Versions/3.7/lib/python3.7/http/client.py\", line 561, in _readall_chunked\n",
      "    chunk_left = self._get_chunk_left()\n",
      "  File \"/usr/local/Cellar/python/3.7.0/Frameworks/Python.framework/Versions/3.7/lib/python3.7/http/client.py\", line 544, in _get_chunk_left\n",
      "    chunk_left = self._read_next_chunk_size()\n",
      "  File \"/usr/local/Cellar/python/3.7.0/Frameworks/Python.framework/Versions/3.7/lib/python3.7/http/client.py\", line 504, in _read_next_chunk_size\n",
      "    line = self.fp.readline(_MAXLINE + 1)\n",
      "  File \"/usr/local/Cellar/python/3.7.0/Frameworks/Python.framework/Versions/3.7/lib/python3.7/socket.py\", line 589, in readinto\n",
      "    return self._sock.recv_into(b)\n",
      "  File \"/usr/local/Cellar/python/3.7.0/Frameworks/Python.framework/Versions/3.7/lib/python3.7/ssl.py\", line 1049, in recv_into\n",
      "    return self.read(nbytes, buffer)\n",
      "  File \"/usr/local/Cellar/python/3.7.0/Frameworks/Python.framework/Versions/3.7/lib/python3.7/ssl.py\", line 908, in read\n",
      "    return self._sslobj.read(len, buffer)\n",
      "socket.timeout: The read operation timed out\n",
      "2021-04-28 12:19:38,665 CRITICAL [imdbpy] /usr/local/lib/python3.7/site-packages/imdb/__init__.py:792: caught an exception retrieving or parsing \"main\" info set for mopID \"0118689\" (accessSystem: http)\n",
      "Traceback (most recent call last):\n",
      "  File \"/usr/local/lib/python3.7/site-packages/imdb/parser/http/__init__.py\", line 221, in retrieve_unicode\n",
      "    content = response.read()\n",
      "  File \"/usr/local/Cellar/python/3.7.0/Frameworks/Python.framework/Versions/3.7/lib/python3.7/http/client.py\", line 454, in read\n",
      "    return self._readall_chunked()\n",
      "  File \"/usr/local/Cellar/python/3.7.0/Frameworks/Python.framework/Versions/3.7/lib/python3.7/http/client.py\", line 561, in _readall_chunked\n",
      "    chunk_left = self._get_chunk_left()\n",
      "  File \"/usr/local/Cellar/python/3.7.0/Frameworks/Python.framework/Versions/3.7/lib/python3.7/http/client.py\", line 544, in _get_chunk_left\n",
      "    chunk_left = self._read_next_chunk_size()\n",
      "  File \"/usr/local/Cellar/python/3.7.0/Frameworks/Python.framework/Versions/3.7/lib/python3.7/http/client.py\", line 504, in _read_next_chunk_size\n",
      "    line = self.fp.readline(_MAXLINE + 1)\n",
      "  File \"/usr/local/Cellar/python/3.7.0/Frameworks/Python.framework/Versions/3.7/lib/python3.7/socket.py\", line 589, in readinto\n",
      "    return self._sock.recv_into(b)\n",
      "  File \"/usr/local/Cellar/python/3.7.0/Frameworks/Python.framework/Versions/3.7/lib/python3.7/ssl.py\", line 1049, in recv_into\n",
      "    return self.read(nbytes, buffer)\n",
      "  File \"/usr/local/Cellar/python/3.7.0/Frameworks/Python.framework/Versions/3.7/lib/python3.7/ssl.py\", line 908, in read\n",
      "    return self._sslobj.read(len, buffer)\n",
      "socket.timeout: The read operation timed out\n",
      "\n",
      "During handling of the above exception, another exception occurred:\n",
      "\n",
      "Traceback (most recent call last):\n",
      "  File \"/usr/local/lib/python3.7/site-packages/imdb/__init__.py\", line 787, in update\n",
      "    ret = method(mopID)\n",
      "  File \"/usr/local/lib/python3.7/site-packages/imdb/parser/http/__init__.py\", line 454, in get_movie_main\n",
      "    cont = self._retrieve(self.urls['movie_main'] % movieID + 'reference')\n",
      "  File \"/usr/local/lib/python3.7/site-packages/imdb/parser/http/__init__.py\", line 378, in _retrieve\n",
      "    ret = self.urlOpener.retrieve_unicode(url, size=size)\n",
      "  File \"/usr/local/lib/python3.7/site-packages/imdb/parser/http/__init__.py\", line 254, in retrieve_unicode\n",
      "    'original exception': e}\n",
      "imdb._exceptions.IMDbDataAccessError: {'errcode': None, 'errmsg': 'None', 'url': 'https://www.imdb.com/title/tt0118689/reference', 'proxy': '', 'exception type': 'IOError', 'original exception': timeout('The read operation timed out')}\n",
      "100% |########################################################################|\n"
     ]
    }
   ],
   "source": [
    "getCharachters(l)"
   ]
  },
  {
   "cell_type": "code",
   "execution_count": 497,
   "metadata": {},
   "outputs": [],
   "source": [
    "l.to_csv('../data/task2/all-charachters.csv', index=False)"
   ]
  },
  {
   "cell_type": "code",
   "execution_count": 501,
   "metadata": {},
   "outputs": [],
   "source": [
    "imdb_movies = pd.read_csv('../data/task2/all-charachters.csv', delimiter=',')"
   ]
  },
  {
   "cell_type": "code",
   "execution_count": 502,
   "metadata": {},
   "outputs": [
    {
     "data": {
      "text/html": [
       "<div>\n",
       "<style scoped>\n",
       "    .dataframe tbody tr th:only-of-type {\n",
       "        vertical-align: middle;\n",
       "    }\n",
       "\n",
       "    .dataframe tbody tr th {\n",
       "        vertical-align: top;\n",
       "    }\n",
       "\n",
       "    .dataframe thead th {\n",
       "        text-align: right;\n",
       "    }\n",
       "</style>\n",
       "<table border=\"1\" class=\"dataframe\">\n",
       "  <thead>\n",
       "    <tr style=\"text-align: right;\">\n",
       "      <th></th>\n",
       "      <th>Movie</th>\n",
       "      <th>Year</th>\n",
       "      <th>imdb_url</th>\n",
       "      <th>AltTitle</th>\n",
       "      <th>Cast</th>\n",
       "    </tr>\n",
       "  </thead>\n",
       "  <tbody>\n",
       "    <tr>\n",
       "      <th>0</th>\n",
       "      <td>10 Things I Hate About You</td>\n",
       "      <td>1999.0</td>\n",
       "      <td>https://www.imdb.com/title/tt0147800/</td>\n",
       "      <td>NaN</td>\n",
       "      <td>[&lt;Person id:0005132[http] name:_Heath Ledger_&gt;...</td>\n",
       "    </tr>\n",
       "    <tr>\n",
       "      <th>1</th>\n",
       "      <td>12</td>\n",
       "      <td>2010.0</td>\n",
       "      <td>https://www.imdb.com/title/tt1407084/</td>\n",
       "      <td>Twelve</td>\n",
       "      <td>[&lt;Person id:2003700[http] name:_Chace Crawford...</td>\n",
       "    </tr>\n",
       "    <tr>\n",
       "      <th>2</th>\n",
       "      <td>12 Monkeys</td>\n",
       "      <td>1995.0</td>\n",
       "      <td>https://www.imdb.com/title/tt0114746/</td>\n",
       "      <td>12 Monkeys</td>\n",
       "      <td>[&lt;Person id:0577828[http] name:_Joseph Melito_...</td>\n",
       "    </tr>\n",
       "    <tr>\n",
       "      <th>3</th>\n",
       "      <td>12 Years A Slave</td>\n",
       "      <td>2013.0</td>\n",
       "      <td>https://www.imdb.com/title/tt2024544/</td>\n",
       "      <td>NaN</td>\n",
       "      <td>[&lt;Person id:0252230[http] name:_Chiwetel Ejiof...</td>\n",
       "    </tr>\n",
       "    <tr>\n",
       "      <th>4</th>\n",
       "      <td>12 And Holding</td>\n",
       "      <td>2005.0</td>\n",
       "      <td>https://www.imdb.com/title/tt0417385/</td>\n",
       "      <td>NaN</td>\n",
       "      <td>[&lt;Person id:1331627[http] name:_Conor Donovan_...</td>\n",
       "    </tr>\n",
       "    <tr>\n",
       "      <th>...</th>\n",
       "      <td>...</td>\n",
       "      <td>...</td>\n",
       "      <td>...</td>\n",
       "      <td>...</td>\n",
       "      <td>...</td>\n",
       "    </tr>\n",
       "    <tr>\n",
       "      <th>1132</th>\n",
       "      <td>Youth In Revolt</td>\n",
       "      <td>2009.0</td>\n",
       "      <td>https://www.imdb.com/title/tt0403702/</td>\n",
       "      <td>NaN</td>\n",
       "      <td>[&lt;Person id:0148418[http] name:_Michael Cera_&gt;...</td>\n",
       "    </tr>\n",
       "    <tr>\n",
       "      <th>1133</th>\n",
       "      <td>Zero Dark Thirty</td>\n",
       "      <td>2012.0</td>\n",
       "      <td>https://www.imdb.com/title/tt1790885/</td>\n",
       "      <td>NaN</td>\n",
       "      <td>[&lt;Person id:0164809[http] name:_Jason Clarke_&gt;...</td>\n",
       "    </tr>\n",
       "    <tr>\n",
       "      <th>1134</th>\n",
       "      <td>Zerophilia</td>\n",
       "      <td>2005.0</td>\n",
       "      <td>https://www.imdb.com/title/tt0421090/</td>\n",
       "      <td>NaN</td>\n",
       "      <td>[&lt;Person id:0359623[http] name:_Taylor Handley...</td>\n",
       "    </tr>\n",
       "    <tr>\n",
       "      <th>1135</th>\n",
       "      <td>Zootopia</td>\n",
       "      <td>2016.0</td>\n",
       "      <td>https://www.imdb.com/title/tt2948356/</td>\n",
       "      <td>NaN</td>\n",
       "      <td>[&lt;Person id:0329481[http] name:_Ginnifer Goodw...</td>\n",
       "    </tr>\n",
       "    <tr>\n",
       "      <th>1136</th>\n",
       "      <td>Xxx</td>\n",
       "      <td>2002.0</td>\n",
       "      <td>https://www.imdb.com/title/tt0295701/</td>\n",
       "      <td>NaN</td>\n",
       "      <td>[&lt;Person id:0004874[http] name:_Vin Diesel_&gt;, ...</td>\n",
       "    </tr>\n",
       "  </tbody>\n",
       "</table>\n",
       "<p>1137 rows × 5 columns</p>\n",
       "</div>"
      ],
      "text/plain": [
       "                           Movie    Year  \\\n",
       "0     10 Things I Hate About You  1999.0   \n",
       "1                             12  2010.0   \n",
       "2                     12 Monkeys  1995.0   \n",
       "3               12 Years A Slave  2013.0   \n",
       "4                 12 And Holding  2005.0   \n",
       "...                          ...     ...   \n",
       "1132             Youth In Revolt  2009.0   \n",
       "1133            Zero Dark Thirty  2012.0   \n",
       "1134                  Zerophilia  2005.0   \n",
       "1135                    Zootopia  2016.0   \n",
       "1136                         Xxx  2002.0   \n",
       "\n",
       "                                   imdb_url    AltTitle  \\\n",
       "0     https://www.imdb.com/title/tt0147800/         NaN   \n",
       "1     https://www.imdb.com/title/tt1407084/      Twelve   \n",
       "2     https://www.imdb.com/title/tt0114746/  12 Monkeys   \n",
       "3     https://www.imdb.com/title/tt2024544/         NaN   \n",
       "4     https://www.imdb.com/title/tt0417385/         NaN   \n",
       "...                                     ...         ...   \n",
       "1132  https://www.imdb.com/title/tt0403702/         NaN   \n",
       "1133  https://www.imdb.com/title/tt1790885/         NaN   \n",
       "1134  https://www.imdb.com/title/tt0421090/         NaN   \n",
       "1135  https://www.imdb.com/title/tt2948356/         NaN   \n",
       "1136  https://www.imdb.com/title/tt0295701/         NaN   \n",
       "\n",
       "                                                   Cast  \n",
       "0     [<Person id:0005132[http] name:_Heath Ledger_>...  \n",
       "1     [<Person id:2003700[http] name:_Chace Crawford...  \n",
       "2     [<Person id:0577828[http] name:_Joseph Melito_...  \n",
       "3     [<Person id:0252230[http] name:_Chiwetel Ejiof...  \n",
       "4     [<Person id:1331627[http] name:_Conor Donovan_...  \n",
       "...                                                 ...  \n",
       "1132  [<Person id:0148418[http] name:_Michael Cera_>...  \n",
       "1133  [<Person id:0164809[http] name:_Jason Clarke_>...  \n",
       "1134  [<Person id:0359623[http] name:_Taylor Handley...  \n",
       "1135  [<Person id:0329481[http] name:_Ginnifer Goodw...  \n",
       "1136  [<Person id:0004874[http] name:_Vin Diesel_>, ...  \n",
       "\n",
       "[1137 rows x 5 columns]"
      ]
     },
     "execution_count": 502,
     "metadata": {},
     "output_type": "execute_result"
    }
   ],
   "source": [
    "imdb_movies"
   ]
  },
  {
   "cell_type": "code",
   "execution_count": null,
   "metadata": {},
   "outputs": [],
   "source": []
  },
  {
   "cell_type": "code",
   "execution_count": null,
   "metadata": {},
   "outputs": [],
   "source": []
  },
  {
   "cell_type": "code",
   "execution_count": null,
   "metadata": {},
   "outputs": [],
   "source": []
  },
  {
   "cell_type": "code",
   "execution_count": 391,
   "metadata": {},
   "outputs": [],
   "source": [
    "# for urls in list(l['imdb_url']):\n",
    "#     r = requests.get(url=urls)\n",
    "#     soup = BeautifulSoup(r.text, 'html.parser')\n",
    "#     crew_data = {\n",
    "#         \"crew\": []\n",
    "#     }\n",
    "#     title = soup.find('title')\n",
    "#     crew_data[\"title\"] = title.string\n",
    "#     cast_list = soup.find(\"table\", {\"class\" : \"cast_list\"})\n",
    "\n",
    "#     trows = cast_list.find_all('tr')\n",
    "\n",
    "#     for tr in trows:\n",
    "#         td = tr.find_all('td')\n",
    "#         if len(td)==4:\n",
    "#             row = [i.text for i in td]\n",
    "#             crew_data[\"crew\"].append({\n",
    "#                 \"name\":re.sub(\"[^a-zA-Z' ]+\", '', row[1]).strip(),\n",
    "#                 \"character\":re.sub(\"[^a-zA-Z' ]+\", '', row[3]).strip()\n",
    "#             })\n",
    "#     print(crew_data)"
   ]
  },
  {
   "cell_type": "code",
   "execution_count": null,
   "metadata": {},
   "outputs": [],
   "source": []
  },
  {
   "cell_type": "code",
   "execution_count": 251,
   "metadata": {},
   "outputs": [],
   "source": []
  },
  {
   "cell_type": "code",
   "execution_count": null,
   "metadata": {},
   "outputs": [],
   "source": []
  },
  {
   "cell_type": "code",
   "execution_count": null,
   "metadata": {},
   "outputs": [],
   "source": []
  },
  {
   "cell_type": "code",
   "execution_count": 222,
   "metadata": {},
   "outputs": [],
   "source": []
  },
  {
   "cell_type": "code",
   "execution_count": null,
   "metadata": {},
   "outputs": [],
   "source": []
  },
  {
   "cell_type": "code",
   "execution_count": 224,
   "metadata": {},
   "outputs": [],
   "source": []
  },
  {
   "cell_type": "code",
   "execution_count": null,
   "metadata": {},
   "outputs": [],
   "source": []
  },
  {
   "cell_type": "code",
   "execution_count": null,
   "metadata": {},
   "outputs": [],
   "source": []
  }
 ],
 "metadata": {
  "kernelspec": {
   "display_name": "Python 3",
   "language": "python",
   "name": "python3"
  },
  "language_info": {
   "codemirror_mode": {
    "name": "ipython",
    "version": 3
   },
   "file_extension": ".py",
   "mimetype": "text/x-python",
   "name": "python",
   "nbconvert_exporter": "python",
   "pygments_lexer": "ipython3",
   "version": "3.7.0"
  }
 },
 "nbformat": 4,
 "nbformat_minor": 4
}
